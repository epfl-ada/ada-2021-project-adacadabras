{
 "cells": [
  {
   "cell_type": "code",
   "execution_count": 1,
   "metadata": {},
   "outputs": [],
   "source": [
    "from compound_analysis import generate_barplot"
   ]
  },
  {
   "cell_type": "code",
   "execution_count": 2,
   "metadata": {},
   "outputs": [
    {
     "data": {
      "application/vnd.plotly.v1+json": {
       "config": {
        "plotlyServerURL": "https://plot.ly"
       },
       "data": [
        {
         "error_y": {
          "array": [
           0.021510316865572553,
           0.019560598347713256,
           0.02307129918120084,
           0.021758269598638035,
           0.01540116722721546,
           0.01760395001426417
          ],
          "type": "data"
         },
         "name": "Woman's day (08/03)",
         "type": "bar",
         "visible": true,
         "x": [
          "< 40 (women)",
          "40-60 (women)",
          "> 60 (women)",
          "< 40 (men)",
          "40-60 (men)",
          "> 60 (men)"
         ],
         "y": [
          0.2478132258,
          0.1740910097,
          0.1463413717,
          0.2209205861,
          0.16901190160000001,
          0.1807512514
         ]
        },
        {
         "error_y": {
          "array": [
           0.021300258784278867,
           0.02182894535221872,
           0.0238804595091278,
           0.020068870479796483,
           0.01552166102574143,
           0.01530843690346534
          ],
          "type": "data"
         },
         "name": "#MeToo (15/10)",
         "type": "bar",
         "visible": true,
         "x": [
          "< 40 (women)",
          "40-60 (women)",
          "> 60 (women)",
          "< 40 (men)",
          "40-60 (men)",
          "> 60 (men)"
         ],
         "y": [
          0.2676359206,
          0.1805160669,
          0.1364193467,
          0.2254610911,
          0.1805023719,
          0.1586999544
         ]
        },
        {
         "error_y": {
          "array": [
           0.002493992643617083,
           0.002492661194364512,
           0.003003995390636652,
           0.0023612232027944557,
           0.001805128794200902,
           0.0018368677595781578
          ],
          "type": "data"
         },
         "name": "Overall average (all year)",
         "type": "bar",
         "visible": true,
         "x": [
          "< 40 (women)",
          "40-60 (women)",
          "> 60 (women)",
          "< 40 (men)",
          "40-60 (men)",
          "> 60 (men)"
         ],
         "y": [
          0.27270167030000003,
          0.1978519414,
          0.1674900876,
          0.2213259495,
          0.18512359150000002,
          0.1588827154
         ]
        },
        {
         "error_y": {
          "array": [
           0.04397811671278431,
           0.06008339024104691,
           0.04347448898181086,
           0.04732474471923957,
           0.023265023635454334,
           0.02574235461567236
          ],
          "type": "data"
         },
         "name": "Woman's day (08/03)",
         "type": "bar",
         "visible": false,
         "x": [
          "< 40 (women)",
          "40-60 (women)",
          "> 60 (women)",
          "< 40 (men)",
          "40-60 (men)",
          "> 60 (men)"
         ],
         "y": [
          0.0719192593,
          -0.13540000000000002,
          0.038142857100000004,
          0.0665633028,
          -0.0239005952,
          0.0243235714
         ]
        },
        {
         "error_y": {
          "array": [
           0.04790271877358547,
           0.05628141787049689,
           0.0856770202749292,
           0.029824085524023856,
           0.05250496278962296,
           0.04213999188494121
          ],
          "type": "data"
         },
         "name": "#MeToo (15/10)",
         "type": "bar",
         "visible": false,
         "x": [
          "< 40 (women)",
          "40-60 (women)",
          "> 60 (women)",
          "< 40 (men)",
          "40-60 (men)",
          "> 60 (men)"
         ],
         "y": [
          0.0999300654,
          -0.1004383929,
          -0.1157517857,
          -0.0309606061,
          -0.20194537440000002,
          -0.08240542170000001
         ]
        },
        {
         "error_y": {
          "array": [
           0.006247237069901795,
           0.0035971666125155974,
           0.00687197620182517,
           0.003779198441857606,
           0.0031461230004033083,
           0.004447972055178171
          ],
          "type": "data"
         },
         "name": "Overall average (all year)",
         "type": "bar",
         "visible": false,
         "x": [
          "< 40 (women)",
          "40-60 (women)",
          "> 60 (women)",
          "< 40 (men)",
          "40-60 (men)",
          "> 60 (men)"
         ],
         "y": [
          0.105911241,
          -0.031732146,
          -0.0696712796,
          0.035661165200000004,
          -0.0416849091,
          -0.0732968463
         ]
        },
        {
         "error_y": {
          "array": [
           0.015324142762404111,
           0.01681722147515079,
           0.020115497006428222,
           0.018994691032948905,
           0.014624289184891413,
           0.013306534660540135
          ],
          "type": "data"
         },
         "name": "Woman's day (08/03)",
         "type": "bar",
         "visible": false,
         "x": [
          "< 40 (women)",
          "40-60 (women)",
          "> 60 (women)",
          "< 40 (men)",
          "40-60 (men)",
          "> 60 (men)"
         ],
         "y": [
          0.2374015857,
          0.20686898250000002,
          0.1911064626,
          0.25231098960000004,
          0.2244451582,
          0.1719168877
         ]
        },
        {
         "error_y": {
          "array": [
           0.014225763887337393,
           0.011730932203017961,
           0.017264666366065863,
           0.01578589283040793,
           0.013194835919620252,
           0.010578758172543898
          ],
          "type": "data"
         },
         "name": "#MeToo (15/10)",
         "type": "bar",
         "visible": false,
         "x": [
          "< 40 (women)",
          "40-60 (women)",
          "> 60 (women)",
          "< 40 (men)",
          "40-60 (men)",
          "> 60 (men)"
         ],
         "y": [
          0.1766277597,
          0.096578548,
          0.1357024439,
          0.1796200967,
          0.1672182439,
          0.1070989041
         ]
        },
        {
         "error_y": {
          "array": [
           0.002118958555984435,
           0.0020652488321806764,
           0.002562507209337397,
           0.002108337582501284,
           0.0016396575529242854,
           0.0015924289539160966
          ],
          "type": "data"
         },
         "name": "Overall average (all year)",
         "type": "bar",
         "visible": false,
         "x": [
          "< 40 (women)",
          "40-60 (women)",
          "> 60 (women)",
          "< 40 (men)",
          "40-60 (men)",
          "> 60 (men)"
         ],
         "y": [
          0.2651506997,
          0.1827985536,
          0.1664479875,
          0.2228939623,
          0.190315013,
          0.1602473731
         ]
        },
        {
         "error_y": {
          "array": [
           0.022172247884928616,
           0.03928944706988958,
           0.03845953782105792,
           0.014510827250213505,
           0.031648927118029774,
           0.03917306647805082
          ],
          "type": "data"
         },
         "name": "Woman's day (08/03)",
         "type": "bar",
         "visible": false,
         "x": [
          "< 40 (women)",
          "40-60 (women)",
          "> 60 (women)",
          "< 40 (men)",
          "40-60 (men)",
          "> 60 (men)"
         ],
         "y": [
          0.0390989865,
          -0.0859833333,
          -0.0639987342,
          0.0065421488000000005,
          -0.0742383459,
          -0.0976470852
         ]
        },
        {
         "error_y": {
          "array": [
           0.039620718230474423,
           0.03448394541155415,
           0.049296097966016084,
           0.033219538953781554,
           0.03937648751083863,
           0.04074061839666329
          ],
          "type": "data"
         },
         "name": "#MeToo (15/10)",
         "type": "bar",
         "visible": false,
         "x": [
          "< 40 (women)",
          "40-60 (women)",
          "> 60 (women)",
          "< 40 (men)",
          "40-60 (men)",
          "> 60 (men)"
         ],
         "y": [
          -0.161015015,
          -0.1962603516,
          -0.1591808411,
          -0.09795225810000001,
          -0.15916646710000001,
          -0.2337827338
         ]
        },
        {
         "error_y": {
          "array": [
           0.0026954990370990787,
           0.005279780557442256,
           0.0072998903898608015,
           0.003139328561572201,
           0.004236993556753627,
           0.004988680617780152
          ],
          "type": "data"
         },
         "name": "Overall average (all year)",
         "type": "bar",
         "visible": false,
         "x": [
          "< 40 (women)",
          "40-60 (women)",
          "> 60 (women)",
          "< 40 (men)",
          "40-60 (men)",
          "> 60 (men)"
         ],
         "y": [
          0.0264162059,
          -0.1176430698,
          -0.12359591600000001,
          -0.028182805800000002,
          -0.0990201173,
          -0.1351207583
         ]
        },
        {
         "error_y": {
          "array": [
           0.019566952060613218,
           0.0193777947098065,
           0.0220747336978704,
           0.02356769081163862,
           0.015422488753510146,
           0.016061313432624548
          ],
          "type": "data"
         },
         "name": "Woman's day (08/03)",
         "type": "bar",
         "visible": false,
         "x": [
          "< 40 (women)",
          "40-60 (women)",
          "> 60 (women)",
          "< 40 (men)",
          "40-60 (men)",
          "> 60 (men)"
         ],
         "y": [
          0.3093261417,
          0.2384212366,
          0.2077663077,
          0.2720245627,
          0.1713854094,
          0.1751694986
         ]
        },
        {
         "error_y": {
          "array": [
           0.019550183314244414,
           0.017335760597110585,
           0.022634130279208374,
           0.01724061423675327,
           0.014759597144379003,
           0.015355588005171365
          ],
          "type": "data"
         },
         "name": "#MeToo (15/10)",
         "type": "bar",
         "visible": false,
         "x": [
          "< 40 (women)",
          "40-60 (women)",
          "> 60 (women)",
          "< 40 (men)",
          "40-60 (men)",
          "> 60 (men)"
         ],
         "y": [
          0.27671539230000003,
          0.19758506650000002,
          0.2037654635,
          0.1892027708,
          0.1915339554,
          0.169613017
         ]
        },
        {
         "error_y": {
          "array": [
           0.0022379644090261335,
           0.0022093605102523756,
           0.002678213019516952,
           0.002403896933575357,
           0.001782541560228574,
           0.0016637047724824174
          ],
          "type": "data"
         },
         "name": "Overall average (all year)",
         "type": "bar",
         "visible": false,
         "x": [
          "< 40 (women)",
          "40-60 (women)",
          "> 60 (women)",
          "< 40 (men)",
          "40-60 (men)",
          "> 60 (men)"
         ],
         "y": [
          0.2829333935,
          0.20424440970000002,
          0.1759767083,
          0.2244894395,
          0.18691821900000002,
          0.1515176999
         ]
        },
        {
         "error_y": {
          "array": [
           0.04569118004729465,
           0.021222953598560888,
           0.03178217297772178,
           0.05457020002252672,
           0.049512386676108765,
           0.051247712560608345
          ],
          "type": "data"
         },
         "name": "Woman's day (08/03)",
         "type": "bar",
         "visible": false,
         "x": [
          "< 40 (women)",
          "40-60 (women)",
          "> 60 (women)",
          "< 40 (men)",
          "40-60 (men)",
          "> 60 (men)"
         ],
         "y": [
          0.1194744898,
          -0.0224994737,
          -0.0364514706,
          0.1082968504,
          -0.1656502283,
          -0.1129718121
         ]
        },
        {
         "error_y": {
          "array": [
           0.04714227279017574,
           0.036233275019253004,
           0.07788146078817465,
           0.020093810973067342,
           0.044256930554695956,
           0.04343789312863829
          ],
          "type": "data"
         },
         "name": "#MeToo (15/10)",
         "type": "bar",
         "visible": false,
         "x": [
          "< 40 (women)",
          "40-60 (women)",
          "> 60 (women)",
          "< 40 (men)",
          "40-60 (men)",
          "> 60 (men)"
         ],
         "y": [
          0.0666790909,
          -0.06333125,
          -0.1827030928,
          0.014350365,
          -0.1032391304,
          -0.10702588830000001
         ]
        },
        {
         "error_y": {
          "array": [
           0.004581664387855517,
           0.00537164131388797,
           0.007318956169319326,
           0.0024966355845170173,
           0.005045081138898096,
           0.005790236914785765
          ],
          "type": "data"
         },
         "name": "Overall average (all year)",
         "type": "bar",
         "visible": false,
         "x": [
          "< 40 (women)",
          "40-60 (women)",
          "> 60 (women)",
          "< 40 (men)",
          "40-60 (men)",
          "> 60 (men)"
         ],
         "y": [
          0.0600833027,
          -0.08964359990000001,
          -0.1059251251,
          -0.014008843200000001,
          -0.11422833760000001,
          -0.15253781560000002
         ]
        }
       ],
       "layout": {
        "annotations": [
         {
          "showarrow": false,
          "text": "Subject, Year",
          "x": 0.42,
          "xref": "paper",
          "y": 1.12,
          "yref": "paper"
         }
        ],
        "template": {
         "data": {
          "bar": [
           {
            "error_x": {
             "color": "#2a3f5f"
            },
            "error_y": {
             "color": "#2a3f5f"
            },
            "marker": {
             "line": {
              "color": "#E5ECF6",
              "width": 0.5
             },
             "pattern": {
              "fillmode": "overlay",
              "size": 10,
              "solidity": 0.2
             }
            },
            "type": "bar"
           }
          ],
          "barpolar": [
           {
            "marker": {
             "line": {
              "color": "#E5ECF6",
              "width": 0.5
             },
             "pattern": {
              "fillmode": "overlay",
              "size": 10,
              "solidity": 0.2
             }
            },
            "type": "barpolar"
           }
          ],
          "carpet": [
           {
            "aaxis": {
             "endlinecolor": "#2a3f5f",
             "gridcolor": "white",
             "linecolor": "white",
             "minorgridcolor": "white",
             "startlinecolor": "#2a3f5f"
            },
            "baxis": {
             "endlinecolor": "#2a3f5f",
             "gridcolor": "white",
             "linecolor": "white",
             "minorgridcolor": "white",
             "startlinecolor": "#2a3f5f"
            },
            "type": "carpet"
           }
          ],
          "choropleth": [
           {
            "colorbar": {
             "outlinewidth": 0,
             "ticks": ""
            },
            "type": "choropleth"
           }
          ],
          "contour": [
           {
            "colorbar": {
             "outlinewidth": 0,
             "ticks": ""
            },
            "colorscale": [
             [
              0,
              "#0d0887"
             ],
             [
              0.1111111111111111,
              "#46039f"
             ],
             [
              0.2222222222222222,
              "#7201a8"
             ],
             [
              0.3333333333333333,
              "#9c179e"
             ],
             [
              0.4444444444444444,
              "#bd3786"
             ],
             [
              0.5555555555555556,
              "#d8576b"
             ],
             [
              0.6666666666666666,
              "#ed7953"
             ],
             [
              0.7777777777777778,
              "#fb9f3a"
             ],
             [
              0.8888888888888888,
              "#fdca26"
             ],
             [
              1,
              "#f0f921"
             ]
            ],
            "type": "contour"
           }
          ],
          "contourcarpet": [
           {
            "colorbar": {
             "outlinewidth": 0,
             "ticks": ""
            },
            "type": "contourcarpet"
           }
          ],
          "heatmap": [
           {
            "colorbar": {
             "outlinewidth": 0,
             "ticks": ""
            },
            "colorscale": [
             [
              0,
              "#0d0887"
             ],
             [
              0.1111111111111111,
              "#46039f"
             ],
             [
              0.2222222222222222,
              "#7201a8"
             ],
             [
              0.3333333333333333,
              "#9c179e"
             ],
             [
              0.4444444444444444,
              "#bd3786"
             ],
             [
              0.5555555555555556,
              "#d8576b"
             ],
             [
              0.6666666666666666,
              "#ed7953"
             ],
             [
              0.7777777777777778,
              "#fb9f3a"
             ],
             [
              0.8888888888888888,
              "#fdca26"
             ],
             [
              1,
              "#f0f921"
             ]
            ],
            "type": "heatmap"
           }
          ],
          "heatmapgl": [
           {
            "colorbar": {
             "outlinewidth": 0,
             "ticks": ""
            },
            "colorscale": [
             [
              0,
              "#0d0887"
             ],
             [
              0.1111111111111111,
              "#46039f"
             ],
             [
              0.2222222222222222,
              "#7201a8"
             ],
             [
              0.3333333333333333,
              "#9c179e"
             ],
             [
              0.4444444444444444,
              "#bd3786"
             ],
             [
              0.5555555555555556,
              "#d8576b"
             ],
             [
              0.6666666666666666,
              "#ed7953"
             ],
             [
              0.7777777777777778,
              "#fb9f3a"
             ],
             [
              0.8888888888888888,
              "#fdca26"
             ],
             [
              1,
              "#f0f921"
             ]
            ],
            "type": "heatmapgl"
           }
          ],
          "histogram": [
           {
            "marker": {
             "pattern": {
              "fillmode": "overlay",
              "size": 10,
              "solidity": 0.2
             }
            },
            "type": "histogram"
           }
          ],
          "histogram2d": [
           {
            "colorbar": {
             "outlinewidth": 0,
             "ticks": ""
            },
            "colorscale": [
             [
              0,
              "#0d0887"
             ],
             [
              0.1111111111111111,
              "#46039f"
             ],
             [
              0.2222222222222222,
              "#7201a8"
             ],
             [
              0.3333333333333333,
              "#9c179e"
             ],
             [
              0.4444444444444444,
              "#bd3786"
             ],
             [
              0.5555555555555556,
              "#d8576b"
             ],
             [
              0.6666666666666666,
              "#ed7953"
             ],
             [
              0.7777777777777778,
              "#fb9f3a"
             ],
             [
              0.8888888888888888,
              "#fdca26"
             ],
             [
              1,
              "#f0f921"
             ]
            ],
            "type": "histogram2d"
           }
          ],
          "histogram2dcontour": [
           {
            "colorbar": {
             "outlinewidth": 0,
             "ticks": ""
            },
            "colorscale": [
             [
              0,
              "#0d0887"
             ],
             [
              0.1111111111111111,
              "#46039f"
             ],
             [
              0.2222222222222222,
              "#7201a8"
             ],
             [
              0.3333333333333333,
              "#9c179e"
             ],
             [
              0.4444444444444444,
              "#bd3786"
             ],
             [
              0.5555555555555556,
              "#d8576b"
             ],
             [
              0.6666666666666666,
              "#ed7953"
             ],
             [
              0.7777777777777778,
              "#fb9f3a"
             ],
             [
              0.8888888888888888,
              "#fdca26"
             ],
             [
              1,
              "#f0f921"
             ]
            ],
            "type": "histogram2dcontour"
           }
          ],
          "mesh3d": [
           {
            "colorbar": {
             "outlinewidth": 0,
             "ticks": ""
            },
            "type": "mesh3d"
           }
          ],
          "parcoords": [
           {
            "line": {
             "colorbar": {
              "outlinewidth": 0,
              "ticks": ""
             }
            },
            "type": "parcoords"
           }
          ],
          "pie": [
           {
            "automargin": true,
            "type": "pie"
           }
          ],
          "scatter": [
           {
            "marker": {
             "colorbar": {
              "outlinewidth": 0,
              "ticks": ""
             }
            },
            "type": "scatter"
           }
          ],
          "scatter3d": [
           {
            "line": {
             "colorbar": {
              "outlinewidth": 0,
              "ticks": ""
             }
            },
            "marker": {
             "colorbar": {
              "outlinewidth": 0,
              "ticks": ""
             }
            },
            "type": "scatter3d"
           }
          ],
          "scattercarpet": [
           {
            "marker": {
             "colorbar": {
              "outlinewidth": 0,
              "ticks": ""
             }
            },
            "type": "scattercarpet"
           }
          ],
          "scattergeo": [
           {
            "marker": {
             "colorbar": {
              "outlinewidth": 0,
              "ticks": ""
             }
            },
            "type": "scattergeo"
           }
          ],
          "scattergl": [
           {
            "marker": {
             "colorbar": {
              "outlinewidth": 0,
              "ticks": ""
             }
            },
            "type": "scattergl"
           }
          ],
          "scattermapbox": [
           {
            "marker": {
             "colorbar": {
              "outlinewidth": 0,
              "ticks": ""
             }
            },
            "type": "scattermapbox"
           }
          ],
          "scatterpolar": [
           {
            "marker": {
             "colorbar": {
              "outlinewidth": 0,
              "ticks": ""
             }
            },
            "type": "scatterpolar"
           }
          ],
          "scatterpolargl": [
           {
            "marker": {
             "colorbar": {
              "outlinewidth": 0,
              "ticks": ""
             }
            },
            "type": "scatterpolargl"
           }
          ],
          "scatterternary": [
           {
            "marker": {
             "colorbar": {
              "outlinewidth": 0,
              "ticks": ""
             }
            },
            "type": "scatterternary"
           }
          ],
          "surface": [
           {
            "colorbar": {
             "outlinewidth": 0,
             "ticks": ""
            },
            "colorscale": [
             [
              0,
              "#0d0887"
             ],
             [
              0.1111111111111111,
              "#46039f"
             ],
             [
              0.2222222222222222,
              "#7201a8"
             ],
             [
              0.3333333333333333,
              "#9c179e"
             ],
             [
              0.4444444444444444,
              "#bd3786"
             ],
             [
              0.5555555555555556,
              "#d8576b"
             ],
             [
              0.6666666666666666,
              "#ed7953"
             ],
             [
              0.7777777777777778,
              "#fb9f3a"
             ],
             [
              0.8888888888888888,
              "#fdca26"
             ],
             [
              1,
              "#f0f921"
             ]
            ],
            "type": "surface"
           }
          ],
          "table": [
           {
            "cells": {
             "fill": {
              "color": "#EBF0F8"
             },
             "line": {
              "color": "white"
             }
            },
            "header": {
             "fill": {
              "color": "#C8D4E3"
             },
             "line": {
              "color": "white"
             }
            },
            "type": "table"
           }
          ]
         },
         "layout": {
          "annotationdefaults": {
           "arrowcolor": "#2a3f5f",
           "arrowhead": 0,
           "arrowwidth": 1
          },
          "autotypenumbers": "strict",
          "coloraxis": {
           "colorbar": {
            "outlinewidth": 0,
            "ticks": ""
           }
          },
          "colorscale": {
           "diverging": [
            [
             0,
             "#8e0152"
            ],
            [
             0.1,
             "#c51b7d"
            ],
            [
             0.2,
             "#de77ae"
            ],
            [
             0.3,
             "#f1b6da"
            ],
            [
             0.4,
             "#fde0ef"
            ],
            [
             0.5,
             "#f7f7f7"
            ],
            [
             0.6,
             "#e6f5d0"
            ],
            [
             0.7,
             "#b8e186"
            ],
            [
             0.8,
             "#7fbc41"
            ],
            [
             0.9,
             "#4d9221"
            ],
            [
             1,
             "#276419"
            ]
           ],
           "sequential": [
            [
             0,
             "#0d0887"
            ],
            [
             0.1111111111111111,
             "#46039f"
            ],
            [
             0.2222222222222222,
             "#7201a8"
            ],
            [
             0.3333333333333333,
             "#9c179e"
            ],
            [
             0.4444444444444444,
             "#bd3786"
            ],
            [
             0.5555555555555556,
             "#d8576b"
            ],
            [
             0.6666666666666666,
             "#ed7953"
            ],
            [
             0.7777777777777778,
             "#fb9f3a"
            ],
            [
             0.8888888888888888,
             "#fdca26"
            ],
            [
             1,
             "#f0f921"
            ]
           ],
           "sequentialminus": [
            [
             0,
             "#0d0887"
            ],
            [
             0.1111111111111111,
             "#46039f"
            ],
            [
             0.2222222222222222,
             "#7201a8"
            ],
            [
             0.3333333333333333,
             "#9c179e"
            ],
            [
             0.4444444444444444,
             "#bd3786"
            ],
            [
             0.5555555555555556,
             "#d8576b"
            ],
            [
             0.6666666666666666,
             "#ed7953"
            ],
            [
             0.7777777777777778,
             "#fb9f3a"
            ],
            [
             0.8888888888888888,
             "#fdca26"
            ],
            [
             1,
             "#f0f921"
            ]
           ]
          },
          "colorway": [
           "#636efa",
           "#EF553B",
           "#00cc96",
           "#ab63fa",
           "#FFA15A",
           "#19d3f3",
           "#FF6692",
           "#B6E880",
           "#FF97FF",
           "#FECB52"
          ],
          "font": {
           "color": "#2a3f5f"
          },
          "geo": {
           "bgcolor": "white",
           "lakecolor": "white",
           "landcolor": "#E5ECF6",
           "showlakes": true,
           "showland": true,
           "subunitcolor": "white"
          },
          "hoverlabel": {
           "align": "left"
          },
          "hovermode": "closest",
          "mapbox": {
           "style": "light"
          },
          "paper_bgcolor": "white",
          "plot_bgcolor": "#E5ECF6",
          "polar": {
           "angularaxis": {
            "gridcolor": "white",
            "linecolor": "white",
            "ticks": ""
           },
           "bgcolor": "#E5ECF6",
           "radialaxis": {
            "gridcolor": "white",
            "linecolor": "white",
            "ticks": ""
           }
          },
          "scene": {
           "xaxis": {
            "backgroundcolor": "#E5ECF6",
            "gridcolor": "white",
            "gridwidth": 2,
            "linecolor": "white",
            "showbackground": true,
            "ticks": "",
            "zerolinecolor": "white"
           },
           "yaxis": {
            "backgroundcolor": "#E5ECF6",
            "gridcolor": "white",
            "gridwidth": 2,
            "linecolor": "white",
            "showbackground": true,
            "ticks": "",
            "zerolinecolor": "white"
           },
           "zaxis": {
            "backgroundcolor": "#E5ECF6",
            "gridcolor": "white",
            "gridwidth": 2,
            "linecolor": "white",
            "showbackground": true,
            "ticks": "",
            "zerolinecolor": "white"
           }
          },
          "shapedefaults": {
           "line": {
            "color": "#2a3f5f"
           }
          },
          "ternary": {
           "aaxis": {
            "gridcolor": "white",
            "linecolor": "white",
            "ticks": ""
           },
           "baxis": {
            "gridcolor": "white",
            "linecolor": "white",
            "ticks": ""
           },
           "bgcolor": "#E5ECF6",
           "caxis": {
            "gridcolor": "white",
            "linecolor": "white",
            "ticks": ""
           }
          },
          "title": {
           "x": 0.05
          },
          "xaxis": {
           "automargin": true,
           "gridcolor": "white",
           "linecolor": "white",
           "ticks": "",
           "title": {
            "standoff": 15
           },
           "zerolinecolor": "white",
           "zerolinewidth": 2
          },
          "yaxis": {
           "automargin": true,
           "gridcolor": "white",
           "linecolor": "white",
           "ticks": "",
           "title": {
            "standoff": 15
           },
           "zerolinecolor": "white",
           "zerolinewidth": 2
          }
         }
        },
        "title": {
         "text": "Percentage of women speakers through time",
         "x": 0.45
        },
        "updatemenus": [
         {
          "active": 0,
          "buttons": [
           {
            "args": [
             {
              "visible": [
               true,
               true,
               true,
               false,
               false,
               false,
               false,
               false,
               false,
               false,
               false,
               false,
               false,
               false,
               false,
               false,
               false,
               false
              ]
             }
            ],
            "label": "Women, 2015",
            "method": "update"
           },
           {
            "args": [
             {
              "visible": [
               false,
               false,
               false,
               false,
               false,
               false,
               true,
               true,
               true,
               false,
               false,
               false,
               false,
               false,
               false,
               false,
               false,
               false
              ]
             }
            ],
            "label": "Women, 2017",
            "method": "update"
           },
           {
            "args": [
             {
              "visible": [
               false,
               false,
               false,
               false,
               false,
               false,
               false,
               false,
               false,
               false,
               false,
               false,
               true,
               true,
               true,
               false,
               false,
               false
              ]
             }
            ],
            "label": "Women, 2019",
            "method": "update"
           },
           {
            "args": [
             {
              "visible": [
               false,
               false,
               false,
               true,
               true,
               true,
               false,
               false,
               false,
               false,
               false,
               false,
               false,
               false,
               false,
               false,
               false,
               false
              ]
             }
            ],
            "label": "Metoo, 2015",
            "method": "update"
           },
           {
            "args": [
             {
              "visible": [
               false,
               false,
               false,
               false,
               false,
               false,
               false,
               false,
               false,
               true,
               true,
               true,
               false,
               false,
               false,
               false,
               false,
               false
              ]
             }
            ],
            "label": "Metoo, 2017",
            "method": "update"
           },
           {
            "args": [
             {
              "visible": [
               false,
               false,
               false,
               false,
               false,
               false,
               false,
               false,
               false,
               false,
               false,
               false,
               false,
               false,
               false,
               true,
               true,
               true
              ]
             }
            ],
            "label": "Metoo, 2019",
            "method": "update"
           }
          ],
          "x": 0.62,
          "y": 1.15
         }
        ],
        "yaxis": {
         "title": {
          "text": "Mean compound value"
         }
        }
       }
      }
     },
     "metadata": {},
     "output_type": "display_data"
    }
   ],
   "source": [
    "datasets = ['women', 'metoo']\n",
    "years = [2015, 2017, 2019]\n",
    "PATH_DATA = './data/data_nlp/compound/'\n",
    "\n",
    "generate_barplot(PATH_DATA, datasets, years)"
   ]
  },
  {
   "cell_type": "code",
   "execution_count": null,
   "metadata": {},
   "outputs": [],
   "source": []
  }
 ],
 "metadata": {
  "interpreter": {
   "hash": "2ddbd0b842a978e03471eb3a4ae18fdd24eb8ad76bdab23b363108c4c8f6a59c"
  },
  "kernelspec": {
   "display_name": "Python 3.8.11 64-bit ('ada': conda)",
   "name": "python3"
  },
  "language_info": {
   "codemirror_mode": {
    "name": "ipython",
    "version": 3
   },
   "file_extension": ".py",
   "mimetype": "text/x-python",
   "name": "python",
   "nbconvert_exporter": "python",
   "pygments_lexer": "ipython3",
   "version": "3.8.11"
  },
  "orig_nbformat": 4
 },
 "nbformat": 4,
 "nbformat_minor": 2
}
