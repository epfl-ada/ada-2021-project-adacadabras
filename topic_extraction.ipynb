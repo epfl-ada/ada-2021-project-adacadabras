{
 "cells": [
  {
   "cell_type": "code",
   "execution_count": 63,
   "metadata": {},
   "outputs": [],
   "source": [
    "import spacy, nltk, gensim, sklearn\n",
    "import pandas as pd"
   ]
  },
  {
   "cell_type": "code",
   "execution_count": 64,
   "metadata": {},
   "outputs": [
    {
     "data": {
      "text/html": [
       "<div>\n",
       "<style scoped>\n",
       "    .dataframe tbody tr th:only-of-type {\n",
       "        vertical-align: middle;\n",
       "    }\n",
       "\n",
       "    .dataframe tbody tr th {\n",
       "        vertical-align: top;\n",
       "    }\n",
       "\n",
       "    .dataframe thead th {\n",
       "        text-align: right;\n",
       "    }\n",
       "</style>\n",
       "<table border=\"1\" class=\"dataframe\">\n",
       "  <thead>\n",
       "    <tr style=\"text-align: right;\">\n",
       "      <th></th>\n",
       "      <th>quoteID</th>\n",
       "      <th>quotation</th>\n",
       "      <th>speaker</th>\n",
       "      <th>qids</th>\n",
       "      <th>date</th>\n",
       "      <th>numOccurrences</th>\n",
       "      <th>probas</th>\n",
       "      <th>urls</th>\n",
       "      <th>phase</th>\n",
       "    </tr>\n",
       "  </thead>\n",
       "  <tbody>\n",
       "    <tr>\n",
       "      <th>0</th>\n",
       "      <td>2020-04-15-000176</td>\n",
       "      <td>[ Queen ] can. He can cover.</td>\n",
       "      <td>None</td>\n",
       "      <td>[]</td>\n",
       "      <td>2020-04-15 17:30:45</td>\n",
       "      <td>1</td>\n",
       "      <td>[[None, 0.8956], [Eric DeCosta, 0.0665], [Kenn...</td>\n",
       "      <td>[https://www.pennlive.com/baltimore-ravens/202...</td>\n",
       "      <td>E</td>\n",
       "    </tr>\n",
       "    <tr>\n",
       "      <th>1</th>\n",
       "      <td>2020-02-03-000717</td>\n",
       "      <td>50-YEAR-OLD J-LO, 43-YEAR-OLD SHAKIRA STAR IN ...</td>\n",
       "      <td>None</td>\n",
       "      <td>[]</td>\n",
       "      <td>2020-02-03 16:51:49</td>\n",
       "      <td>1</td>\n",
       "      <td>[[None, 0.6264], [Jennifer Lopez, 0.1782], [Je...</td>\n",
       "      <td>[http://sfgate.com/entertainment/article/Let-s...</td>\n",
       "      <td>E</td>\n",
       "    </tr>\n",
       "    <tr>\n",
       "      <th>2</th>\n",
       "      <td>2020-03-18-000741</td>\n",
       "      <td>A face-to-face duty lawyer service provided by...</td>\n",
       "      <td>Mike Dwyer</td>\n",
       "      <td>[Q6379626]</td>\n",
       "      <td>2020-03-18 07:47:15</td>\n",
       "      <td>12</td>\n",
       "      <td>[[Mike Dwyer, 0.6042], [None, 0.3958]]</td>\n",
       "      <td>[http://www.balonnebeacon.com.au/news/tourism-...</td>\n",
       "      <td>E</td>\n",
       "    </tr>\n",
       "    <tr>\n",
       "      <th>3</th>\n",
       "      <td>2020-01-20-001168</td>\n",
       "      <td>A lot of people think the Women's March is jus...</td>\n",
       "      <td>None</td>\n",
       "      <td>[]</td>\n",
       "      <td>2020-01-20 04:00:00</td>\n",
       "      <td>1</td>\n",
       "      <td>[[None, 0.7123], [Amanda Jones, 0.2877]]</td>\n",
       "      <td>[http://blogs.dallasobserver.com/news/dallas-w...</td>\n",
       "      <td>E</td>\n",
       "    </tr>\n",
       "    <tr>\n",
       "      <th>4</th>\n",
       "      <td>2020-01-16-001680</td>\n",
       "      <td>A lot of women say they remove some of my pain...</td>\n",
       "      <td>Mike Armour</td>\n",
       "      <td>[Q56425425]</td>\n",
       "      <td>2020-01-16 12:11:32</td>\n",
       "      <td>1</td>\n",
       "      <td>[[Mike Armour, 0.9256], [None, 0.0744]]</td>\n",
       "      <td>[https://www.abc.net.au/triplej/programs/hack/...</td>\n",
       "      <td>E</td>\n",
       "    </tr>\n",
       "    <tr>\n",
       "      <th>...</th>\n",
       "      <td>...</td>\n",
       "      <td>...</td>\n",
       "      <td>...</td>\n",
       "      <td>...</td>\n",
       "      <td>...</td>\n",
       "      <td>...</td>\n",
       "      <td>...</td>\n",
       "      <td>...</td>\n",
       "      <td>...</td>\n",
       "    </tr>\n",
       "    <tr>\n",
       "      <th>995</th>\n",
       "      <td>2020-03-10-042723</td>\n",
       "      <td>More than the stylish movie it is, more than t...</td>\n",
       "      <td>Caryn James</td>\n",
       "      <td>[Q1046243]</td>\n",
       "      <td>2020-03-10 18:11:00</td>\n",
       "      <td>1</td>\n",
       "      <td>[[Caryn James, 0.9364], [None, 0.0636]]</td>\n",
       "      <td>[https://www.broadwayworld.com/st-louis/articl...</td>\n",
       "      <td>E</td>\n",
       "    </tr>\n",
       "    <tr>\n",
       "      <th>996</th>\n",
       "      <td>2020-01-27-051880</td>\n",
       "      <td>Mother's Daugher (Wuki Remix),</td>\n",
       "      <td>Tracy Young</td>\n",
       "      <td>[Q7831883]</td>\n",
       "      <td>2020-01-27 00:00:00</td>\n",
       "      <td>6</td>\n",
       "      <td>[[Tracy Young, 0.7657], [None, 0.1384], [Chris...</td>\n",
       "      <td>[https://www.wuky.org/post/62nd-grammy-award-w...</td>\n",
       "      <td>E</td>\n",
       "    </tr>\n",
       "    <tr>\n",
       "      <th>997</th>\n",
       "      <td>2020-03-10-043036</td>\n",
       "      <td>Ms. Angelovic is relieved the order is over an...</td>\n",
       "      <td>John Barnett</td>\n",
       "      <td>[Q16215177, Q21460325]</td>\n",
       "      <td>2020-03-10 15:00:31</td>\n",
       "      <td>1</td>\n",
       "      <td>[[John Barnett, 0.8171], [None, 0.1829]]</td>\n",
       "      <td>[https://www.newuniversity.org/2020/03/10/murd...</td>\n",
       "      <td>E</td>\n",
       "    </tr>\n",
       "    <tr>\n",
       "      <th>998</th>\n",
       "      <td>2020-03-01-023724</td>\n",
       "      <td>My daughter is eight, (Owen) is 11. Until that...</td>\n",
       "      <td>Paul Konerko</td>\n",
       "      <td>[Q685623]</td>\n",
       "      <td>2020-03-01 23:15:54</td>\n",
       "      <td>2</td>\n",
       "      <td>[[Paul Konerko, 0.8269], [None, 0.1731]]</td>\n",
       "      <td>[https://www.nbcsports.com/chicago/white-sox/p...</td>\n",
       "      <td>E</td>\n",
       "    </tr>\n",
       "    <tr>\n",
       "      <th>999</th>\n",
       "      <td>2020-02-27-049512</td>\n",
       "      <td>My mom called me and told me that it happened,...</td>\n",
       "      <td>None</td>\n",
       "      <td>[]</td>\n",
       "      <td>2020-02-27 17:30:15</td>\n",
       "      <td>1</td>\n",
       "      <td>[[None, 0.8658], [Kobe Bryant, 0.1342]]</td>\n",
       "      <td>[https://theappalachianonline.com/kobe/]</td>\n",
       "      <td>E</td>\n",
       "    </tr>\n",
       "  </tbody>\n",
       "</table>\n",
       "<p>1000 rows × 9 columns</p>\n",
       "</div>"
      ],
      "text/plain": [
       "               quoteID                                          quotation  \\\n",
       "0    2020-04-15-000176                       [ Queen ] can. He can cover.   \n",
       "1    2020-02-03-000717  50-YEAR-OLD J-LO, 43-YEAR-OLD SHAKIRA STAR IN ...   \n",
       "2    2020-03-18-000741  A face-to-face duty lawyer service provided by...   \n",
       "3    2020-01-20-001168  A lot of people think the Women's March is jus...   \n",
       "4    2020-01-16-001680  A lot of women say they remove some of my pain...   \n",
       "..                 ...                                                ...   \n",
       "995  2020-03-10-042723  More than the stylish movie it is, more than t...   \n",
       "996  2020-01-27-051880                     Mother's Daugher (Wuki Remix),   \n",
       "997  2020-03-10-043036  Ms. Angelovic is relieved the order is over an...   \n",
       "998  2020-03-01-023724  My daughter is eight, (Owen) is 11. Until that...   \n",
       "999  2020-02-27-049512  My mom called me and told me that it happened,...   \n",
       "\n",
       "          speaker                    qids                date  numOccurrences  \\\n",
       "0            None                      [] 2020-04-15 17:30:45               1   \n",
       "1            None                      [] 2020-02-03 16:51:49               1   \n",
       "2      Mike Dwyer              [Q6379626] 2020-03-18 07:47:15              12   \n",
       "3            None                      [] 2020-01-20 04:00:00               1   \n",
       "4     Mike Armour             [Q56425425] 2020-01-16 12:11:32               1   \n",
       "..            ...                     ...                 ...             ...   \n",
       "995   Caryn James              [Q1046243] 2020-03-10 18:11:00               1   \n",
       "996   Tracy Young              [Q7831883] 2020-01-27 00:00:00               6   \n",
       "997  John Barnett  [Q16215177, Q21460325] 2020-03-10 15:00:31               1   \n",
       "998  Paul Konerko               [Q685623] 2020-03-01 23:15:54               2   \n",
       "999          None                      [] 2020-02-27 17:30:15               1   \n",
       "\n",
       "                                                probas  \\\n",
       "0    [[None, 0.8956], [Eric DeCosta, 0.0665], [Kenn...   \n",
       "1    [[None, 0.6264], [Jennifer Lopez, 0.1782], [Je...   \n",
       "2               [[Mike Dwyer, 0.6042], [None, 0.3958]]   \n",
       "3             [[None, 0.7123], [Amanda Jones, 0.2877]]   \n",
       "4              [[Mike Armour, 0.9256], [None, 0.0744]]   \n",
       "..                                                 ...   \n",
       "995            [[Caryn James, 0.9364], [None, 0.0636]]   \n",
       "996  [[Tracy Young, 0.7657], [None, 0.1384], [Chris...   \n",
       "997           [[John Barnett, 0.8171], [None, 0.1829]]   \n",
       "998           [[Paul Konerko, 0.8269], [None, 0.1731]]   \n",
       "999            [[None, 0.8658], [Kobe Bryant, 0.1342]]   \n",
       "\n",
       "                                                  urls phase  \n",
       "0    [https://www.pennlive.com/baltimore-ravens/202...     E  \n",
       "1    [http://sfgate.com/entertainment/article/Let-s...     E  \n",
       "2    [http://www.balonnebeacon.com.au/news/tourism-...     E  \n",
       "3    [http://blogs.dallasobserver.com/news/dallas-w...     E  \n",
       "4    [https://www.abc.net.au/triplej/programs/hack/...     E  \n",
       "..                                                 ...   ...  \n",
       "995  [https://www.broadwayworld.com/st-louis/articl...     E  \n",
       "996  [https://www.wuky.org/post/62nd-grammy-award-w...     E  \n",
       "997  [https://www.newuniversity.org/2020/03/10/murd...     E  \n",
       "998  [https://www.nbcsports.com/chicago/white-sox/p...     E  \n",
       "999           [https://theappalachianonline.com/kobe/]     E  \n",
       "\n",
       "[1000 rows x 9 columns]"
      ]
     },
     "execution_count": 64,
     "metadata": {},
     "output_type": "execute_result"
    }
   ],
   "source": [
    "year = 2020 # available: from 2015 to 2020\n",
    "PATH_DATA = './data/data_nlp/'\n",
    "QUOTES_FILE = PATH_DATA + f'quotes-{year}-filtered.json.bz2'\n",
    "CHUNK_SIZE = 1000\n",
    "\n",
    "reader = pd.read_json(QUOTES_FILE, lines=True, compression='bz2', chunksize=CHUNK_SIZE, typ='frame')\n",
    "\n",
    "for chunk in reader:\n",
    "    df_0 = chunk\n",
    "    break\n",
    "df_0"
   ]
  },
  {
   "cell_type": "code",
   "execution_count": 65,
   "metadata": {},
   "outputs": [
    {
     "data": {
      "text/plain": [
       "\"[ Queen ] can. He can cover. 50-YEAR-OLD J-LO, 43-YEAR-OLD SHAKIRA STAR IN HYPER-SEXUAL `HALF-TIME' , A face-to-face duty lawyer service provided by Legal Aid Queensland is NOT AVAILABLE at this time, A lot of people think the Women's March is just about feminism, but it stands for so much more, A lot of women say they remove some of my pain, but not all of it. Additionally, I oppose (bills) mandating schools to teach sex education beginning in kindergarten, as suggested in A6512. I believe this bill strips away the rights of parents to be involved in their children's sex education, and cause \""
      ]
     },
     "execution_count": 65,
     "metadata": {},
     "output_type": "execute_result"
    }
   ],
   "source": [
    "#Putting all the quotes in one corpus\n",
    "text = \"\"\n",
    "\n",
    "for quote in df_0.quotation:\n",
    "    text = text + ' ' + quote\n",
    "\n",
    "#Removing the new lines\n",
    "text = \" \".join(text.split())\n",
    "text[:600]"
   ]
  },
  {
   "cell_type": "code",
   "execution_count": 66,
   "metadata": {},
   "outputs": [],
   "source": [
    "nlp = spacy.load('en_core_web_sm')\n",
    "nlp.remove_pipe('parser')\n",
    "nlp.remove_pipe('tagger')\n",
    "\n",
    "#put in raw text, get a Spacy object\n",
    "doc = nlp(text)\n",
    "doc2 = nlp(text)"
   ]
  },
  {
   "cell_type": "code",
   "execution_count": 67,
   "metadata": {},
   "outputs": [
    {
     "name": "stdout",
     "output_type": "stream",
     "text": [
      "871\n"
     ]
    }
   ],
   "source": [
    "#loading default spacy stopword list\n",
    "spacy_stopwords = spacy.lang.en.stop_words.STOP_WORDS\n",
    "len(spacy_stopwords)\n",
    "\n",
    "#creating new stopword list\n",
    "sw_list = list(sw[0]) + list(sw[1]) + list(sw[2]) + list(sw[3]) + list(sw[4]) + list(spacy_stopwords)\n",
    "nlp.Defaults.stop_words = sw_list\n",
    "\n",
    "print(len(nlp.Defaults.stop_words))\n"
   ]
  },
  {
   "cell_type": "code",
   "execution_count": 68,
   "metadata": {},
   "outputs": [
    {
     "data": {
      "text/plain": [
       "38166"
      ]
     },
     "execution_count": 68,
     "metadata": {},
     "output_type": "execute_result"
    }
   ],
   "source": [
    "tokens = [token.text for token in doc]\n",
    "len(tokens)"
   ]
  },
  {
   "cell_type": "code",
   "execution_count": 69,
   "metadata": {},
   "outputs": [
    {
     "data": {
      "text/html": [
       "<div>\n",
       "<style scoped>\n",
       "    .dataframe tbody tr th:only-of-type {\n",
       "        vertical-align: middle;\n",
       "    }\n",
       "\n",
       "    .dataframe tbody tr th {\n",
       "        vertical-align: top;\n",
       "    }\n",
       "\n",
       "    .dataframe thead th {\n",
       "        text-align: right;\n",
       "    }\n",
       "</style>\n",
       "<table border=\"1\" class=\"dataframe\">\n",
       "  <thead>\n",
       "    <tr style=\"text-align: right;\">\n",
       "      <th></th>\n",
       "      <th>0</th>\n",
       "      <th>1</th>\n",
       "      <th>2</th>\n",
       "      <th>3</th>\n",
       "      <th>4</th>\n",
       "    </tr>\n",
       "  </thead>\n",
       "  <tbody>\n",
       "    <tr>\n",
       "      <th>0</th>\n",
       "      <td>a's</td>\n",
       "      <td>able</td>\n",
       "      <td>about</td>\n",
       "      <td>above</td>\n",
       "      <td>according</td>\n",
       "    </tr>\n",
       "    <tr>\n",
       "      <th>1</th>\n",
       "      <td>accordingly</td>\n",
       "      <td>across</td>\n",
       "      <td>actually</td>\n",
       "      <td>after</td>\n",
       "      <td>afterwards</td>\n",
       "    </tr>\n",
       "    <tr>\n",
       "      <th>2</th>\n",
       "      <td>again</td>\n",
       "      <td>against</td>\n",
       "      <td>ain't</td>\n",
       "      <td>all</td>\n",
       "      <td>allow</td>\n",
       "    </tr>\n",
       "    <tr>\n",
       "      <th>3</th>\n",
       "      <td>allows</td>\n",
       "      <td>almost</td>\n",
       "      <td>alone</td>\n",
       "      <td>along</td>\n",
       "      <td>already</td>\n",
       "    </tr>\n",
       "    <tr>\n",
       "      <th>4</th>\n",
       "      <td>also</td>\n",
       "      <td>although</td>\n",
       "      <td>always</td>\n",
       "      <td>am</td>\n",
       "      <td>among</td>\n",
       "    </tr>\n",
       "    <tr>\n",
       "      <th>...</th>\n",
       "      <td>...</td>\n",
       "      <td>...</td>\n",
       "      <td>...</td>\n",
       "      <td>...</td>\n",
       "      <td>...</td>\n",
       "    </tr>\n",
       "    <tr>\n",
       "      <th>104</th>\n",
       "      <td>why</td>\n",
       "      <td>will</td>\n",
       "      <td>willing</td>\n",
       "      <td>wish</td>\n",
       "      <td>with</td>\n",
       "    </tr>\n",
       "    <tr>\n",
       "      <th>105</th>\n",
       "      <td>within</td>\n",
       "      <td>without</td>\n",
       "      <td>won't</td>\n",
       "      <td>wonder</td>\n",
       "      <td>would</td>\n",
       "    </tr>\n",
       "    <tr>\n",
       "      <th>106</th>\n",
       "      <td>wouldn't</td>\n",
       "      <td>yes</td>\n",
       "      <td>yet</td>\n",
       "      <td>you</td>\n",
       "      <td>you'd</td>\n",
       "    </tr>\n",
       "    <tr>\n",
       "      <th>107</th>\n",
       "      <td>you'll</td>\n",
       "      <td>you're</td>\n",
       "      <td>you've</td>\n",
       "      <td>your</td>\n",
       "      <td>yours</td>\n",
       "    </tr>\n",
       "    <tr>\n",
       "      <th>108</th>\n",
       "      <td>yourself</td>\n",
       "      <td>yourselves</td>\n",
       "      <td>zero</td>\n",
       "      <td>`</td>\n",
       "      <td>NaN</td>\n",
       "    </tr>\n",
       "  </tbody>\n",
       "</table>\n",
       "<p>109 rows × 5 columns</p>\n",
       "</div>"
      ],
      "text/plain": [
       "               0           1         2       3           4\n",
       "0            a's        able     about   above   according\n",
       "1    accordingly      across  actually   after  afterwards\n",
       "2          again     against     ain't     all       allow\n",
       "3         allows      almost     alone   along     already\n",
       "4           also    although    always      am       among\n",
       "..           ...         ...       ...     ...         ...\n",
       "104          why        will   willing    wish        with\n",
       "105       within     without     won't  wonder       would\n",
       "106     wouldn't         yes       yet     you       you'd\n",
       "107       you'll      you're    you've    your       yours\n",
       "108     yourself  yourselves      zero       `         NaN\n",
       "\n",
       "[109 rows x 5 columns]"
      ]
     },
     "execution_count": 69,
     "metadata": {},
     "output_type": "execute_result"
    }
   ],
   "source": [
    "PATH = PATH_DATA + 'stopword_list.csv'\n",
    "sw = pd.read_csv(PATH, header=None)\n",
    "sw"
   ]
  },
  {
   "cell_type": "code",
   "execution_count": 70,
   "metadata": {},
   "outputs": [
    {
     "data": {
      "text/plain": [
       "21244"
      ]
     },
     "execution_count": 70,
     "metadata": {},
     "output_type": "execute_result"
    }
   ],
   "source": [
    "#number of stopwords detected in text\n",
    "stop_words = [token.text for token in doc if token.is_stop]\n",
    "len(stop_words)\n"
   ]
  },
  {
   "cell_type": "code",
   "execution_count": 71,
   "metadata": {},
   "outputs": [
    {
     "data": {
      "text/plain": [
       "12719"
      ]
     },
     "execution_count": 71,
     "metadata": {},
     "output_type": "execute_result"
    }
   ],
   "source": [
    "words = [token.text for token in doc if token.is_stop != True and token.is_punct != True]\n",
    "len(words)"
   ]
  },
  {
   "cell_type": "code",
   "execution_count": 73,
   "metadata": {},
   "outputs": [
    {
     "name": "stdout",
     "output_type": "stream",
     "text": [
      "[('women', 118), ('people', 89), ('time', 70), ('woman', 53), ('family', 52), ('years', 48), ('life', 41), ('great', 41), ('good', 37), ('work', 37), ('wife', 37), ('day', 35), ('lot', 34), ('mother', 32), ('love', 32), ('children', 31), ('year', 31), ('girls', 31), ('world', 30), ('play', 30), ('team', 29), ('home', 28), ('girl', 28), ('dollars', 27), ('sexual', 27), ('young', 27), ('female', 27), ('daughter', 26), ('country', 25), ('person', 23), ('wanted', 23), ('hard', 23), ('big', 22), ('working', 21), ('beautiful', 20), ('thing', 20), ('support', 19), ('mom', 19), ('feel', 19), ('kind', 19), ('public', 19), ('married', 19), ('continue', 18), ('men', 18), ('case', 18), ('making', 17), ('marriage', 17), ('thought', 17), ('friends', 17), ('happy', 17), ('Women', 16), ('sex', 16), ('story', 16), ('things', 16), ('days', 16), ('loved', 16), ('community', 16), ('found', 16), ('told', 16), ('long', 15), ('strong', 15), ('hope', 15), ('fact', 15), ('close', 15), ('important', 15), ('baby', 15), ('today', 14), ('lives', 14), ('real', 14), ('place', 14), ('law', 14), ('felt', 14), ('friend', 14), ('bit', 14), ('state', 14), ('house', 14), ('started', 14), ('happened', 14), ('man', 14), ('job', 13), ('start', 13), ('sister', 13), ('guys', 13), ('playing', 13), ('left', 13), ('care', 13), ('played', 13), ('knew', 13), ('taking', 13), ('families', 12), ('lost', 12), ('movement', 12), ('remember', 12), ('future', 12), ('power', 12), ('proud', 12), ('focus', 12), ('incredible', 12), ('number', 12), ('president', 12)]\n"
     ]
    }
   ],
   "source": [
    "from collections import Counter\n",
    "# five most common tokens\n",
    "word_freq = Counter(words)\n",
    "word_freq.most_common()\n",
    "print(word_freq.most_common(100))"
   ]
  },
  {
   "cell_type": "code",
   "execution_count": null,
   "metadata": {},
   "outputs": [],
   "source": []
  }
 ],
 "metadata": {
  "interpreter": {
   "hash": "2ddbd0b842a978e03471eb3a4ae18fdd24eb8ad76bdab23b363108c4c8f6a59c"
  },
  "kernelspec": {
   "display_name": "Python 3.8.11 64-bit ('ada': conda)",
   "name": "python3"
  },
  "language_info": {
   "codemirror_mode": {
    "name": "ipython",
    "version": 3
   },
   "file_extension": ".py",
   "mimetype": "text/x-python",
   "name": "python",
   "nbconvert_exporter": "python",
   "pygments_lexer": "ipython3",
   "version": "3.8.11"
  },
  "orig_nbformat": 4
 },
 "nbformat": 4,
 "nbformat_minor": 2
}
