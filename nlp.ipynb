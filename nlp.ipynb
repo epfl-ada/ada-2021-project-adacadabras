{
 "cells": [
  {
   "cell_type": "code",
   "execution_count": 1,
   "metadata": {},
   "outputs": [],
   "source": [
    "import nltk\n",
    "import pandas as pd"
   ]
  },
  {
   "cell_type": "code",
   "execution_count": null,
   "metadata": {},
   "outputs": [],
   "source": [
    "nltk.download([\n",
    "...     \"names\",\n",
    "...     \"stopwords\",\n",
    "...     \"state_union\",\n",
    "...     \"twitter_samples\",\n",
    "...     \"movie_reviews\",\n",
    "...     \"averaged_perceptron_tagger\",\n",
    "...     \"vader_lexicon\",\n",
    "...     \"punkt\",\n",
    "... ])"
   ]
  },
  {
   "cell_type": "code",
   "execution_count": 138,
   "metadata": {},
   "outputs": [
    {
     "data": {
      "text/html": [
       "<div>\n",
       "<style scoped>\n",
       "    .dataframe tbody tr th:only-of-type {\n",
       "        vertical-align: middle;\n",
       "    }\n",
       "\n",
       "    .dataframe tbody tr th {\n",
       "        vertical-align: top;\n",
       "    }\n",
       "\n",
       "    .dataframe thead th {\n",
       "        text-align: right;\n",
       "    }\n",
       "</style>\n",
       "<table border=\"1\" class=\"dataframe\">\n",
       "  <thead>\n",
       "    <tr style=\"text-align: right;\">\n",
       "      <th></th>\n",
       "      <th>quoteID</th>\n",
       "      <th>quotation</th>\n",
       "      <th>speaker</th>\n",
       "      <th>qids</th>\n",
       "      <th>date</th>\n",
       "      <th>numOccurrences</th>\n",
       "      <th>probas</th>\n",
       "      <th>urls</th>\n",
       "      <th>phase</th>\n",
       "    </tr>\n",
       "  </thead>\n",
       "  <tbody>\n",
       "    <tr>\n",
       "      <th>0</th>\n",
       "      <td>2020-04-15-000176</td>\n",
       "      <td>[ Queen ] can. He can cover.</td>\n",
       "      <td>None</td>\n",
       "      <td>[]</td>\n",
       "      <td>2020-04-15 17:30:45</td>\n",
       "      <td>1</td>\n",
       "      <td>[[None, 0.8956], [Eric DeCosta, 0.0665], [Kenn...</td>\n",
       "      <td>[https://www.pennlive.com/baltimore-ravens/202...</td>\n",
       "      <td>E</td>\n",
       "    </tr>\n",
       "    <tr>\n",
       "      <th>1</th>\n",
       "      <td>2020-02-03-000717</td>\n",
       "      <td>50-YEAR-OLD J-LO, 43-YEAR-OLD SHAKIRA STAR IN ...</td>\n",
       "      <td>None</td>\n",
       "      <td>[]</td>\n",
       "      <td>2020-02-03 16:51:49</td>\n",
       "      <td>1</td>\n",
       "      <td>[[None, 0.6264], [Jennifer Lopez, 0.1782], [Je...</td>\n",
       "      <td>[http://sfgate.com/entertainment/article/Let-s...</td>\n",
       "      <td>E</td>\n",
       "    </tr>\n",
       "    <tr>\n",
       "      <th>2</th>\n",
       "      <td>2020-03-18-000741</td>\n",
       "      <td>A face-to-face duty lawyer service provided by...</td>\n",
       "      <td>Mike Dwyer</td>\n",
       "      <td>[Q6379626]</td>\n",
       "      <td>2020-03-18 07:47:15</td>\n",
       "      <td>12</td>\n",
       "      <td>[[Mike Dwyer, 0.6042], [None, 0.3958]]</td>\n",
       "      <td>[http://www.balonnebeacon.com.au/news/tourism-...</td>\n",
       "      <td>E</td>\n",
       "    </tr>\n",
       "    <tr>\n",
       "      <th>3</th>\n",
       "      <td>2020-01-20-001168</td>\n",
       "      <td>A lot of people think the Women's March is jus...</td>\n",
       "      <td>None</td>\n",
       "      <td>[]</td>\n",
       "      <td>2020-01-20 04:00:00</td>\n",
       "      <td>1</td>\n",
       "      <td>[[None, 0.7123], [Amanda Jones, 0.2877]]</td>\n",
       "      <td>[http://blogs.dallasobserver.com/news/dallas-w...</td>\n",
       "      <td>E</td>\n",
       "    </tr>\n",
       "    <tr>\n",
       "      <th>4</th>\n",
       "      <td>2020-01-16-001680</td>\n",
       "      <td>A lot of women say they remove some of my pain...</td>\n",
       "      <td>Mike Armour</td>\n",
       "      <td>[Q56425425]</td>\n",
       "      <td>2020-01-16 12:11:32</td>\n",
       "      <td>1</td>\n",
       "      <td>[[Mike Armour, 0.9256], [None, 0.0744]]</td>\n",
       "      <td>[https://www.abc.net.au/triplej/programs/hack/...</td>\n",
       "      <td>E</td>\n",
       "    </tr>\n",
       "    <tr>\n",
       "      <th>...</th>\n",
       "      <td>...</td>\n",
       "      <td>...</td>\n",
       "      <td>...</td>\n",
       "      <td>...</td>\n",
       "      <td>...</td>\n",
       "      <td>...</td>\n",
       "      <td>...</td>\n",
       "      <td>...</td>\n",
       "      <td>...</td>\n",
       "    </tr>\n",
       "    <tr>\n",
       "      <th>995</th>\n",
       "      <td>2020-03-10-042723</td>\n",
       "      <td>More than the stylish movie it is, more than t...</td>\n",
       "      <td>Caryn James</td>\n",
       "      <td>[Q1046243]</td>\n",
       "      <td>2020-03-10 18:11:00</td>\n",
       "      <td>1</td>\n",
       "      <td>[[Caryn James, 0.9364], [None, 0.0636]]</td>\n",
       "      <td>[https://www.broadwayworld.com/st-louis/articl...</td>\n",
       "      <td>E</td>\n",
       "    </tr>\n",
       "    <tr>\n",
       "      <th>996</th>\n",
       "      <td>2020-01-27-051880</td>\n",
       "      <td>Mother's Daugher (Wuki Remix),</td>\n",
       "      <td>Tracy Young</td>\n",
       "      <td>[Q7831883]</td>\n",
       "      <td>2020-01-27 00:00:00</td>\n",
       "      <td>6</td>\n",
       "      <td>[[Tracy Young, 0.7657], [None, 0.1384], [Chris...</td>\n",
       "      <td>[https://www.wuky.org/post/62nd-grammy-award-w...</td>\n",
       "      <td>E</td>\n",
       "    </tr>\n",
       "    <tr>\n",
       "      <th>997</th>\n",
       "      <td>2020-03-10-043036</td>\n",
       "      <td>Ms. Angelovic is relieved the order is over an...</td>\n",
       "      <td>John Barnett</td>\n",
       "      <td>[Q16215177, Q21460325]</td>\n",
       "      <td>2020-03-10 15:00:31</td>\n",
       "      <td>1</td>\n",
       "      <td>[[John Barnett, 0.8171], [None, 0.1829]]</td>\n",
       "      <td>[https://www.newuniversity.org/2020/03/10/murd...</td>\n",
       "      <td>E</td>\n",
       "    </tr>\n",
       "    <tr>\n",
       "      <th>998</th>\n",
       "      <td>2020-03-01-023724</td>\n",
       "      <td>My daughter is eight, (Owen) is 11. Until that...</td>\n",
       "      <td>Paul Konerko</td>\n",
       "      <td>[Q685623]</td>\n",
       "      <td>2020-03-01 23:15:54</td>\n",
       "      <td>2</td>\n",
       "      <td>[[Paul Konerko, 0.8269], [None, 0.1731]]</td>\n",
       "      <td>[https://www.nbcsports.com/chicago/white-sox/p...</td>\n",
       "      <td>E</td>\n",
       "    </tr>\n",
       "    <tr>\n",
       "      <th>999</th>\n",
       "      <td>2020-02-27-049512</td>\n",
       "      <td>My mom called me and told me that it happened,...</td>\n",
       "      <td>None</td>\n",
       "      <td>[]</td>\n",
       "      <td>2020-02-27 17:30:15</td>\n",
       "      <td>1</td>\n",
       "      <td>[[None, 0.8658], [Kobe Bryant, 0.1342]]</td>\n",
       "      <td>[https://theappalachianonline.com/kobe/]</td>\n",
       "      <td>E</td>\n",
       "    </tr>\n",
       "  </tbody>\n",
       "</table>\n",
       "<p>1000 rows × 9 columns</p>\n",
       "</div>"
      ],
      "text/plain": [
       "               quoteID                                          quotation  \\\n",
       "0    2020-04-15-000176                       [ Queen ] can. He can cover.   \n",
       "1    2020-02-03-000717  50-YEAR-OLD J-LO, 43-YEAR-OLD SHAKIRA STAR IN ...   \n",
       "2    2020-03-18-000741  A face-to-face duty lawyer service provided by...   \n",
       "3    2020-01-20-001168  A lot of people think the Women's March is jus...   \n",
       "4    2020-01-16-001680  A lot of women say they remove some of my pain...   \n",
       "..                 ...                                                ...   \n",
       "995  2020-03-10-042723  More than the stylish movie it is, more than t...   \n",
       "996  2020-01-27-051880                     Mother's Daugher (Wuki Remix),   \n",
       "997  2020-03-10-043036  Ms. Angelovic is relieved the order is over an...   \n",
       "998  2020-03-01-023724  My daughter is eight, (Owen) is 11. Until that...   \n",
       "999  2020-02-27-049512  My mom called me and told me that it happened,...   \n",
       "\n",
       "          speaker                    qids                date  numOccurrences  \\\n",
       "0            None                      [] 2020-04-15 17:30:45               1   \n",
       "1            None                      [] 2020-02-03 16:51:49               1   \n",
       "2      Mike Dwyer              [Q6379626] 2020-03-18 07:47:15              12   \n",
       "3            None                      [] 2020-01-20 04:00:00               1   \n",
       "4     Mike Armour             [Q56425425] 2020-01-16 12:11:32               1   \n",
       "..            ...                     ...                 ...             ...   \n",
       "995   Caryn James              [Q1046243] 2020-03-10 18:11:00               1   \n",
       "996   Tracy Young              [Q7831883] 2020-01-27 00:00:00               6   \n",
       "997  John Barnett  [Q16215177, Q21460325] 2020-03-10 15:00:31               1   \n",
       "998  Paul Konerko               [Q685623] 2020-03-01 23:15:54               2   \n",
       "999          None                      [] 2020-02-27 17:30:15               1   \n",
       "\n",
       "                                                probas  \\\n",
       "0    [[None, 0.8956], [Eric DeCosta, 0.0665], [Kenn...   \n",
       "1    [[None, 0.6264], [Jennifer Lopez, 0.1782], [Je...   \n",
       "2               [[Mike Dwyer, 0.6042], [None, 0.3958]]   \n",
       "3             [[None, 0.7123], [Amanda Jones, 0.2877]]   \n",
       "4              [[Mike Armour, 0.9256], [None, 0.0744]]   \n",
       "..                                                 ...   \n",
       "995            [[Caryn James, 0.9364], [None, 0.0636]]   \n",
       "996  [[Tracy Young, 0.7657], [None, 0.1384], [Chris...   \n",
       "997           [[John Barnett, 0.8171], [None, 0.1829]]   \n",
       "998           [[Paul Konerko, 0.8269], [None, 0.1731]]   \n",
       "999            [[None, 0.8658], [Kobe Bryant, 0.1342]]   \n",
       "\n",
       "                                                  urls phase  \n",
       "0    [https://www.pennlive.com/baltimore-ravens/202...     E  \n",
       "1    [http://sfgate.com/entertainment/article/Let-s...     E  \n",
       "2    [http://www.balonnebeacon.com.au/news/tourism-...     E  \n",
       "3    [http://blogs.dallasobserver.com/news/dallas-w...     E  \n",
       "4    [https://www.abc.net.au/triplej/programs/hack/...     E  \n",
       "..                                                 ...   ...  \n",
       "995  [https://www.broadwayworld.com/st-louis/articl...     E  \n",
       "996  [https://www.wuky.org/post/62nd-grammy-award-w...     E  \n",
       "997  [https://www.newuniversity.org/2020/03/10/murd...     E  \n",
       "998  [https://www.nbcsports.com/chicago/white-sox/p...     E  \n",
       "999           [https://theappalachianonline.com/kobe/]     E  \n",
       "\n",
       "[1000 rows x 9 columns]"
      ]
     },
     "execution_count": 138,
     "metadata": {},
     "output_type": "execute_result"
    }
   ],
   "source": [
    "year = 2020 # available: from 2015 to 2020\n",
    "PATH_DATA = './data/data_nlp/'\n",
    "QUOTES_FILE = PATH_DATA + f'quotes-{year}-filtered.json.bz2'\n",
    "CHUNK_SIZE = 1000\n",
    "\n",
    "reader = pd.read_json(QUOTES_FILE, lines=True, compression='bz2', chunksize=CHUNK_SIZE, typ='frame')\n",
    "\n",
    "for chunk in reader:\n",
    "    df_0 = chunk\n",
    "    break\n",
    "df_0"
   ]
  },
  {
   "cell_type": "code",
   "execution_count": 121,
   "metadata": {},
   "outputs": [],
   "source": [
    "text = \"\"\n",
    "\n",
    "for quote in df_0.quotation:\n",
    "    text = text + ' ' + quote\n",
    "\n",
    "#text[:1000]"
   ]
  },
  {
   "cell_type": "code",
   "execution_count": 122,
   "metadata": {},
   "outputs": [],
   "source": [
    "words = nltk.word_tokenize(text)\n",
    "\n",
    "#stop words, and they can have a negative effect on your analysis because they occur so often in the text\n",
    "stopwords = nltk.corpus.stopwords.words(\"english\")\n",
    "#Removing characters. w.isalpha() --> only the words that are made up of letters\n",
    "words = [w for w in words if w.isalpha()]\n",
    "#Removing the stopwords\n",
    "words = [w for w in words if w.lower() not in stopwords]\n",
    "#creating a FreqDist object\n",
    "fd = nltk.FreqDist(words)"
   ]
  },
  {
   "cell_type": "code",
   "execution_count": 123,
   "metadata": {},
   "outputs": [
    {
     "name": "stdout",
     "output_type": "stream",
     "text": [
      "     women       like     people     really      think        one      would       know      going       time        get         us      woman        got        way     family        see      could       want       said      years       also       make      great      first       life        two      every       work       wife       good       come      right       well       made       need        lot        day       love     always         go      never      girls       much   children     mother       play      world       take    getting       part       team       girl       back        new    dollars     sexual      young       even       best        say     female       help   daughter       home    country      still       look     around     little     wanted  something     person       done       show       give        big       tell        put       many       able       went  beautiful    support        mom       year       kind      thing       hard       last     public    married       away   continue    working       feel everything        men     making   together \n",
      "       117        110         88         84         78         74         72         69         68         65         65         54         53         53         52         52         51         50         48         48         46         46         45         41         41         39         38         38         37         37         36         36         36         35         35         35         34         33         32         32         32         31         31         30         30         30         30         29         28         28         28         28         28         28         27         27         27         27         27         27         26         26         26         26         25         25         24         24         24         24         23         23         22         21         21         21         21         21         21         21         20         20         20         19         19         19         19         19         19         19         19         19         18         18         18         18         18         17         17         17 \n"
     ]
    }
   ],
   "source": [
    "#Most common words. Here, we should find a list of words (bigger than stopwords) to filter common words\n",
    "fd.most_common(100)\n",
    "fd.tabulate(100)"
   ]
  },
  {
   "cell_type": "code",
   "execution_count": 124,
   "metadata": {},
   "outputs": [
    {
     "name": "stdout",
     "output_type": "stream",
     "text": [
      "     women       like     people     really        one      think      would       know      going        get       time         us      woman        got     family        way        see      could       want       said      years       also       make      first       life      great      every      world        day        two       good       well       work       wife       love       made       come        new      right     mother       need        lot       even      never      girls     always         go       play       girl       much   children       best       take       back    getting       part       team       home     female    dollars     sexual      young        say      still       help   daughter       look     around    country        let  something     little       many     wanted        big     person       year       show       tell        put     public       done everything       went       give       last       able        mom      state       kind  beautiful    married    support        men      thing       hard       away      today   continue   together \n",
      "       133        112         93         87         79         78         73         69         68         68         67         59         55         54         54         52         51         50         48         48         47         47         46         46         42         42         41         39         38         38         37         37         37         37         37         37         36         36         36         35         35         34         34         34         34         33         32         31         31         30         30         30         29         29         28         28         28         28         28         27         27         27         26         26         26         26         25         25         25         24         24         24         24         23         23         22         22         22         22         22         22         21         21         21         21         21         20         20         20         20         20         20         19         19         19         19         18         18         18         18 \n"
     ]
    }
   ],
   "source": [
    "#Taking into account capital and non capital. More precise\n",
    "lower_fd = nltk.FreqDist([w.lower() for w in words])\n",
    "lower_fd.most_common(100)\n",
    "lower_fd.tabulate(100)\n"
   ]
  },
  {
   "cell_type": "code",
   "execution_count": 125,
   "metadata": {},
   "outputs": [
    {
     "name": "stdout",
     "output_type": "stream",
     "text": [
      "Displaying 25 of 133 matches:\n",
      "land AVAILABLE time lot people think Women March feminism stands much lot women\n",
      "Women March feminism stands much lot women say remove pain Additionally oppose \n",
      "Gladys father Kenneth Baillie Almost women find life today complex upsetting fr\n",
      "le meet life demands reasonably well women untreated Attention Deficit Disorder\n",
      "d spreading think come time prepared women supported women going continue blind\n",
      "k come time prepared women supported women going continue blindly support men s\n",
      "diversity campaigned years Ross date women color practice giving claim sex game\n",
      "aign call champions everyone support women accord space operate Let us continue\n",
      "ught gifts considering Valentine Day Women Day coming got top raped tour Pointe\n",
      "something ca terrifying human afraid women actually happen one people believes \n",
      "y happen one people believes Believe women women lie Trust practiced law ten ye\n",
      "en one people believes Believe women women lie Trust practiced law ten years pe\n",
      "fair new film Classroom Warfare want women take away Keep rowdy guys country gi\n",
      " entertaining us heck lot incredible women weekend hits genuine drives cuts pul\n",
      "black men playing basketball finally women got chance play colored women got ch\n",
      "inally women got chance play colored women got chance play big shock probably e\n",
      "ects going forward Mentoring matters women economics Nelly excited huge George \n",
      "elevant patient information Pregnant women might also risk severe illness morbi\n",
      "er conversations continue make waves women film production years come goldenglo\n",
      "wise wo accepted Church clothes make women overweight horrible condition major \n",
      "peaking others become aware symptoms women face Diocese followed established pr\n",
      " claimed three million lives modesty women violated Sheikh Hasina elections per\n",
      "important make public transport safe women issued notice police DMRC want know \n",
      "want know provisions ensuring safety women Delhi Metro Immediate arrests made c\n",
      "t business people would rather abuse women lose spot corporate ladder nothing s\n"
     ]
    }
   ],
   "source": [
    "text_nltk = nltk.Text(words)\n",
    "text_nltk.concordance(\"women\")\n"
   ]
  },
  {
   "cell_type": "code",
   "execution_count": 126,
   "metadata": {},
   "outputs": [],
   "source": [
    "finder = nltk.collocations.TrigramCollocationFinder.from_words(words)"
   ]
  },
  {
   "cell_type": "code",
   "execution_count": 127,
   "metadata": {},
   "outputs": [
    {
     "data": {
      "text/plain": [
       "[(('Image', 'Credit', 'Instagram'), 4),\n",
       " (('hundreds', 'millions', 'dollars'), 3)]"
      ]
     },
     "execution_count": 127,
     "metadata": {},
     "output_type": "execute_result"
    }
   ],
   "source": [
    "finder.ngram_fd.most_common(2)"
   ]
  },
  {
   "cell_type": "markdown",
   "metadata": {},
   "source": [
    "***SENTIMENT ANALYSIS USING VADER*** "
   ]
  },
  {
   "cell_type": "code",
   "execution_count": 128,
   "metadata": {},
   "outputs": [
    {
     "data": {
      "text/plain": [
       "{'neg': 0.0, 'neu': 0.295, 'pos': 0.705, 'compound': 0.8012}"
      ]
     },
     "execution_count": 128,
     "metadata": {},
     "output_type": "execute_result"
    }
   ],
   "source": [
    "from nltk.sentiment import SentimentIntensityAnalyzer\n",
    "\n",
    "sia = SentimentIntensityAnalyzer()\n",
    "sia.polarity_scores(\"Wow, NLTK is really powerful!\")"
   ]
  },
  {
   "cell_type": "code",
   "execution_count": 141,
   "metadata": {},
   "outputs": [
    {
     "data": {
      "text/html": [
       "<div>\n",
       "<style scoped>\n",
       "    .dataframe tbody tr th:only-of-type {\n",
       "        vertical-align: middle;\n",
       "    }\n",
       "\n",
       "    .dataframe tbody tr th {\n",
       "        vertical-align: top;\n",
       "    }\n",
       "\n",
       "    .dataframe thead th {\n",
       "        text-align: right;\n",
       "    }\n",
       "</style>\n",
       "<table border=\"1\" class=\"dataframe\">\n",
       "  <thead>\n",
       "    <tr style=\"text-align: right;\">\n",
       "      <th></th>\n",
       "      <th>quoteID</th>\n",
       "      <th>quotation</th>\n",
       "      <th>speaker</th>\n",
       "      <th>qids</th>\n",
       "      <th>date</th>\n",
       "      <th>numOccurrences</th>\n",
       "      <th>probas</th>\n",
       "      <th>urls</th>\n",
       "      <th>phase</th>\n",
       "      <th>scores</th>\n",
       "      <th>compound</th>\n",
       "    </tr>\n",
       "  </thead>\n",
       "  <tbody>\n",
       "    <tr>\n",
       "      <th>0</th>\n",
       "      <td>2020-04-15-000176</td>\n",
       "      <td>[ Queen ] can. He can cover.</td>\n",
       "      <td>None</td>\n",
       "      <td>[]</td>\n",
       "      <td>2020-04-15 17:30:45</td>\n",
       "      <td>1</td>\n",
       "      <td>[[None, 0.8956], [Eric DeCosta, 0.0665], [Kenn...</td>\n",
       "      <td>[https://www.pennlive.com/baltimore-ravens/202...</td>\n",
       "      <td>E</td>\n",
       "      <td>{'neg': 0.0, 'neu': 1.0, 'pos': 0.0, 'compound...</td>\n",
       "      <td>0.0000</td>\n",
       "    </tr>\n",
       "    <tr>\n",
       "      <th>1</th>\n",
       "      <td>2020-02-03-000717</td>\n",
       "      <td>50-YEAR-OLD J-LO, 43-YEAR-OLD SHAKIRA STAR IN ...</td>\n",
       "      <td>None</td>\n",
       "      <td>[]</td>\n",
       "      <td>2020-02-03 16:51:49</td>\n",
       "      <td>1</td>\n",
       "      <td>[[None, 0.6264], [Jennifer Lopez, 0.1782], [Je...</td>\n",
       "      <td>[http://sfgate.com/entertainment/article/Let-s...</td>\n",
       "      <td>E</td>\n",
       "      <td>{'neg': 0.0, 'neu': 1.0, 'pos': 0.0, 'compound...</td>\n",
       "      <td>0.0000</td>\n",
       "    </tr>\n",
       "    <tr>\n",
       "      <th>2</th>\n",
       "      <td>2020-03-18-000741</td>\n",
       "      <td>A face-to-face duty lawyer service provided by...</td>\n",
       "      <td>Mike Dwyer</td>\n",
       "      <td>[Q6379626]</td>\n",
       "      <td>2020-03-18 07:47:15</td>\n",
       "      <td>12</td>\n",
       "      <td>[[Mike Dwyer, 0.6042], [None, 0.3958]]</td>\n",
       "      <td>[http://www.balonnebeacon.com.au/news/tourism-...</td>\n",
       "      <td>E</td>\n",
       "      <td>{'neg': 0.0, 'neu': 0.903, 'pos': 0.097, 'comp...</td>\n",
       "      <td>0.1280</td>\n",
       "    </tr>\n",
       "    <tr>\n",
       "      <th>3</th>\n",
       "      <td>2020-01-20-001168</td>\n",
       "      <td>A lot of people think the Women's March is jus...</td>\n",
       "      <td>None</td>\n",
       "      <td>[]</td>\n",
       "      <td>2020-01-20 04:00:00</td>\n",
       "      <td>1</td>\n",
       "      <td>[[None, 0.7123], [Amanda Jones, 0.2877]]</td>\n",
       "      <td>[http://blogs.dallasobserver.com/news/dallas-w...</td>\n",
       "      <td>E</td>\n",
       "      <td>{'neg': 0.0, 'neu': 1.0, 'pos': 0.0, 'compound...</td>\n",
       "      <td>0.0000</td>\n",
       "    </tr>\n",
       "    <tr>\n",
       "      <th>4</th>\n",
       "      <td>2020-01-16-001680</td>\n",
       "      <td>A lot of women say they remove some of my pain...</td>\n",
       "      <td>Mike Armour</td>\n",
       "      <td>[Q56425425]</td>\n",
       "      <td>2020-01-16 12:11:32</td>\n",
       "      <td>1</td>\n",
       "      <td>[[Mike Armour, 0.9256], [None, 0.0744]]</td>\n",
       "      <td>[https://www.abc.net.au/triplej/programs/hack/...</td>\n",
       "      <td>E</td>\n",
       "      <td>{'neg': 0.133, 'neu': 0.867, 'pos': 0.0, 'comp...</td>\n",
       "      <td>-0.2846</td>\n",
       "    </tr>\n",
       "  </tbody>\n",
       "</table>\n",
       "</div>"
      ],
      "text/plain": [
       "             quoteID                                          quotation  \\\n",
       "0  2020-04-15-000176                       [ Queen ] can. He can cover.   \n",
       "1  2020-02-03-000717  50-YEAR-OLD J-LO, 43-YEAR-OLD SHAKIRA STAR IN ...   \n",
       "2  2020-03-18-000741  A face-to-face duty lawyer service provided by...   \n",
       "3  2020-01-20-001168  A lot of people think the Women's March is jus...   \n",
       "4  2020-01-16-001680  A lot of women say they remove some of my pain...   \n",
       "\n",
       "       speaker         qids                date  numOccurrences  \\\n",
       "0         None           [] 2020-04-15 17:30:45               1   \n",
       "1         None           [] 2020-02-03 16:51:49               1   \n",
       "2   Mike Dwyer   [Q6379626] 2020-03-18 07:47:15              12   \n",
       "3         None           [] 2020-01-20 04:00:00               1   \n",
       "4  Mike Armour  [Q56425425] 2020-01-16 12:11:32               1   \n",
       "\n",
       "                                              probas  \\\n",
       "0  [[None, 0.8956], [Eric DeCosta, 0.0665], [Kenn...   \n",
       "1  [[None, 0.6264], [Jennifer Lopez, 0.1782], [Je...   \n",
       "2             [[Mike Dwyer, 0.6042], [None, 0.3958]]   \n",
       "3           [[None, 0.7123], [Amanda Jones, 0.2877]]   \n",
       "4            [[Mike Armour, 0.9256], [None, 0.0744]]   \n",
       "\n",
       "                                                urls phase  \\\n",
       "0  [https://www.pennlive.com/baltimore-ravens/202...     E   \n",
       "1  [http://sfgate.com/entertainment/article/Let-s...     E   \n",
       "2  [http://www.balonnebeacon.com.au/news/tourism-...     E   \n",
       "3  [http://blogs.dallasobserver.com/news/dallas-w...     E   \n",
       "4  [https://www.abc.net.au/triplej/programs/hack/...     E   \n",
       "\n",
       "                                              scores  compound  \n",
       "0  {'neg': 0.0, 'neu': 1.0, 'pos': 0.0, 'compound...    0.0000  \n",
       "1  {'neg': 0.0, 'neu': 1.0, 'pos': 0.0, 'compound...    0.0000  \n",
       "2  {'neg': 0.0, 'neu': 0.903, 'pos': 0.097, 'comp...    0.1280  \n",
       "3  {'neg': 0.0, 'neu': 1.0, 'pos': 0.0, 'compound...    0.0000  \n",
       "4  {'neg': 0.133, 'neu': 0.867, 'pos': 0.0, 'comp...   -0.2846  "
      ]
     },
     "execution_count": 141,
     "metadata": {},
     "output_type": "execute_result"
    }
   ],
   "source": [
    "#Adding a score column and a coumpound column to every quote\n",
    "df_0['scores'] = df_0['quotation'].apply(lambda quote: sia.polarity_scores(quote))\n",
    "df_0['compound']  = df_0['scores'].apply(lambda score_dict: score_dict['compound'])\n",
    "\n",
    "\n",
    "df_0.head()\n"
   ]
  },
  {
   "cell_type": "code",
   "execution_count": 146,
   "metadata": {},
   "outputs": [
    {
     "data": {
      "text/plain": [
       "'A lot of women say they remove some of my pain, but not all of it.'"
      ]
     },
     "execution_count": 146,
     "metadata": {},
     "output_type": "execute_result"
    }
   ],
   "source": [
    "'''Keep in mind that VADER is likely better at rating tweets than it is at rating long movie reviews. \n",
    "To get better results, you’ll set up VADER to rate individual sentences within the review rather than the entire text.'''"
   ]
  },
  {
   "cell_type": "code",
   "execution_count": null,
   "metadata": {},
   "outputs": [],
   "source": []
  }
 ],
 "metadata": {
  "interpreter": {
   "hash": "2ddbd0b842a978e03471eb3a4ae18fdd24eb8ad76bdab23b363108c4c8f6a59c"
  },
  "kernelspec": {
   "display_name": "Python 3.8.11 64-bit ('ada': conda)",
   "name": "python3"
  },
  "language_info": {
   "codemirror_mode": {
    "name": "ipython",
    "version": 3
   },
   "file_extension": ".py",
   "mimetype": "text/x-python",
   "name": "python",
   "nbconvert_exporter": "python",
   "pygments_lexer": "ipython3",
   "version": "3.8.11"
  },
  "orig_nbformat": 4
 },
 "nbformat": 4,
 "nbformat_minor": 2
}
