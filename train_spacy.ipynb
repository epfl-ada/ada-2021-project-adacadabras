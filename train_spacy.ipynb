{
 "cells": [
  {
   "cell_type": "code",
   "execution_count": 1,
   "metadata": {},
   "outputs": [],
   "source": [
    "# Imports PIL module \n",
    "import pandas as pd\n",
    "import spacy\n",
    "import string\n",
    "from sklearn.feature_extraction.text import TfidfVectorizer\n",
    "from sklearn.pipeline import Pipeline\n",
    "from sklearn.model_selection import train_test_split\n",
    "from sklearn.metrics import accuracy_score, classification_report, confusion_matrix\n"
   ]
  },
  {
   "cell_type": "code",
   "execution_count": 2,
   "metadata": {},
   "outputs": [],
   "source": [
    "PATH_DATA = './data/data_nlp/'\n",
    "AD1_FILE = PATH_DATA + 'MeTooHate.csv'\n",
    "CHUNK_SIZE = 1000\n",
    "\n",
    "df = pd.read_csv(AD1_FILE)"
   ]
  },
  {
   "cell_type": "code",
   "execution_count": 3,
   "metadata": {},
   "outputs": [
    {
     "data": {
      "text/plain": [
       "(803638, 2)"
      ]
     },
     "execution_count": 3,
     "metadata": {},
     "output_type": "execute_result"
    }
   ],
   "source": [
    "df.drop(columns=['status_id', 'created_at', 'favorite_count', 'retweet_count',\n",
    "       'location', 'followers_count', 'friends_count', 'statuses_count',\n",
    "       ], inplace=True)\n",
    "\n",
    "df.dropna(inplace=True)\n",
    "df.shape\n"
   ]
  },
  {
   "cell_type": "code",
   "execution_count": 4,
   "metadata": {},
   "outputs": [
    {
     "data": {
      "text/plain": [
       "text        0\n",
       "category    0\n",
       "dtype: int64"
      ]
     },
     "execution_count": 4,
     "metadata": {},
     "output_type": "execute_result"
    }
   ],
   "source": [
    "df.isna().sum()"
   ]
  },
  {
   "cell_type": "code",
   "execution_count": 5,
   "metadata": {},
   "outputs": [
    {
     "data": {
      "text/plain": [
       "'!\"#$%&\\'()*+,-./:;<=>?@[\\\\]^_`{|}~'"
      ]
     },
     "execution_count": 5,
     "metadata": {},
     "output_type": "execute_result"
    }
   ],
   "source": [
    "nlp = spacy.load('en_core_web_sm')\n",
    "punct = string.punctuation\n",
    "punct"
   ]
  },
  {
   "cell_type": "code",
   "execution_count": 6,
   "metadata": {},
   "outputs": [],
   "source": [
    "import re\n",
    "\n",
    "def remove_url(text):\n",
    "    url = re.compile(r\"https?://\\S+|www\\.\\S+\")\n",
    "    return url.sub(r\"\", text)\n",
    "\n",
    "def remove_html(text):\n",
    "    html = re.compile(r\"<.*?>\")\n",
    "    return html.sub(r\"\", text)\n",
    "\n",
    "def remove_emoji(text):\n",
    "    emoji_pattern = re.compile(\n",
    "        \"[\"\n",
    "        u\"\\U0001F600-\\U0001F64F\"\n",
    "        u\"\\U0001F300-\\U0001F5FF\"\n",
    "        u\"\\U0001F680-\\U0001F6FF\"\n",
    "        u\"\\U0001F1E0-\\U0001F1FF\"\n",
    "        u\"\\U00002702-\\U000027B0\"\n",
    "        u\"\\U000024C2-\\U0001F251\"\n",
    "        \"]+\",\n",
    "        flags=re.UNICODE\n",
    "    )\n",
    "    return emoji_pattern.sub(r\"\", text)\n",
    "\n",
    "def text_data_cleaning(sentence):\n",
    "    sentence = remove_url(sentence)\n",
    "    sentence = remove_html(sentence)\n",
    "    sentence = remove_emoji(sentence)\n",
    "    doc = nlp(sentence)\n",
    "\n",
    "    tokens = []\n",
    "    for token in doc:\n",
    "        if token.lemma_ != \"-PRON-\":\n",
    "            temp = token.lemma_.lower().strip()\n",
    "        else:\n",
    "            temp = token.lower_\n",
    "        tokens.append(temp)\n",
    "    \n",
    "    cleaned_tokens = []\n",
    "    for token in tokens:\n",
    "        if token not in nlp.Defaults.stop_words and token not in punct:\n",
    "            cleaned_tokens.append(token)\n",
    "    return cleaned_tokens"
   ]
  },
  {
   "cell_type": "code",
   "execution_count": 7,
   "metadata": {},
   "outputs": [
    {
     "data": {
      "text/plain": [
       "['yep',\n",
       " 'like',\n",
       " 'triffele',\n",
       " 'woman',\n",
       " 'weaponize',\n",
       " 'poon',\n",
       " 'wonder',\n",
       " 'kamala',\n",
       " 'harris',\n",
       " 'extort',\n",
       " 'willy',\n",
       " 'brown',\n",
       " 'throw',\n",
       " 'poon',\n",
       " 'oh',\n",
       " 'yeh',\n",
       " 'job',\n",
       " 'joke']"
      ]
     },
     "execution_count": 7,
     "metadata": {},
     "output_type": "execute_result"
    }
   ],
   "source": [
    "text_data_cleaning(df.text[3])"
   ]
  },
  {
   "cell_type": "code",
   "execution_count": 8,
   "metadata": {},
   "outputs": [
    {
     "data": {
      "text/plain": [
       "'Yep just like triffeling women weaponized their poon!! Wonder if Kamala Harris ever extorted Willy Brown after throwing the poon on him, oh yeh, that how she got her first job me too is a JOKE! '"
      ]
     },
     "execution_count": 8,
     "metadata": {},
     "output_type": "execute_result"
    }
   ],
   "source": [
    "df.text[3]"
   ]
  },
  {
   "cell_type": "code",
   "execution_count": 9,
   "metadata": {},
   "outputs": [
    {
     "data": {
      "text/plain": [
       "\" Isn't it nice that you know everything?       \\n      \""
      ]
     },
     "execution_count": 9,
     "metadata": {},
     "output_type": "execute_result"
    }
   ],
   "source": [
    "remove_emoji(df.text[9])"
   ]
  },
  {
   "cell_type": "markdown",
   "metadata": {},
   "source": [
    "***TFIDF***"
   ]
  },
  {
   "cell_type": "code",
   "execution_count": 10,
   "metadata": {},
   "outputs": [],
   "source": [
    "from sklearn.svm import LinearSVC"
   ]
  },
  {
   "cell_type": "code",
   "execution_count": 37,
   "metadata": {},
   "outputs": [],
   "source": [
    "tfidf = TfidfVectorizer(tokenizer=text_data_cleaning)\n",
    "classifier = LinearSVC(verbose=True)"
   ]
  },
  {
   "cell_type": "code",
   "execution_count": 38,
   "metadata": {},
   "outputs": [],
   "source": [
    "X = df.text\n",
    "y = df.category"
   ]
  },
  {
   "cell_type": "code",
   "execution_count": 39,
   "metadata": {},
   "outputs": [],
   "source": [
    "X_train, X_test, y_train, y_test = train_test_split(X, y, test_size=0.2, random_state=42 )"
   ]
  },
  {
   "cell_type": "code",
   "execution_count": 40,
   "metadata": {},
   "outputs": [
    {
     "data": {
      "text/plain": [
       "((642910,), (160728,))"
      ]
     },
     "execution_count": 40,
     "metadata": {},
     "output_type": "execute_result"
    }
   ],
   "source": [
    "X_train.shape, X_test.shape"
   ]
  },
  {
   "cell_type": "code",
   "execution_count": 41,
   "metadata": {},
   "outputs": [
    {
     "data": {
      "text/plain": [
       "\"so... abusing women??? I guess karma is a bitch, huh!!! Remember your mantra...!!  So, those rules should serve you well, right??!! Good luck Creepy porn lawyer.. couldn't have happened to a nicer guy!! JERK\""
      ]
     },
     "execution_count": 41,
     "metadata": {},
     "output_type": "execute_result"
    }
   ],
   "source": [
    "X_train[524689]"
   ]
  },
  {
   "cell_type": "code",
   "execution_count": 42,
   "metadata": {},
   "outputs": [],
   "source": [
    "clf = Pipeline([('tfidf', tfidf), ('clf', classifier)], verbose=True)"
   ]
  },
  {
   "cell_type": "code",
   "execution_count": 43,
   "metadata": {},
   "outputs": [
    {
     "name": "stdout",
     "output_type": "stream",
     "text": [
      "[Pipeline] ............ (step 1 of 2) Processing tfidf, total=111.5min\n",
      "[LibLinear].....*\n",
      "optimization finished, #iter = 55\n",
      "Objective value = -106844.563668\n",
      "nSV = 298712\n",
      "[Pipeline] ............... (step 2 of 2) Processing clf, total=  14.5s\n"
     ]
    },
    {
     "data": {
      "text/plain": [
       "Pipeline(steps=[('tfidf',\n",
       "                 TfidfVectorizer(tokenizer=<function text_data_cleaning at 0x7f8dbb262280>)),\n",
       "                ('clf', LinearSVC(verbose=True))],\n",
       "         verbose=True)"
      ]
     },
     "execution_count": 43,
     "metadata": {},
     "output_type": "execute_result"
    }
   ],
   "source": [
    "clf.fit(X_train, y_train)"
   ]
  },
  {
   "cell_type": "code",
   "execution_count": 44,
   "metadata": {},
   "outputs": [],
   "source": [
    "y_pred = clf.predict(X_test)"
   ]
  },
  {
   "cell_type": "code",
   "execution_count": 45,
   "metadata": {},
   "outputs": [
    {
     "name": "stdout",
     "output_type": "stream",
     "text": [
      "              precision    recall  f1-score   support\n",
      "\n",
      "           0       0.95      0.99      0.97    141532\n",
      "           1       0.88      0.59      0.71     19196\n",
      "\n",
      "    accuracy                           0.94    160728\n",
      "   macro avg       0.91      0.79      0.84    160728\n",
      "weighted avg       0.94      0.94      0.94    160728\n",
      "\n"
     ]
    }
   ],
   "source": [
    "print(classification_report(y_test,y_pred))"
   ]
  },
  {
   "cell_type": "code",
   "execution_count": 46,
   "metadata": {},
   "outputs": [
    {
     "data": {
      "text/plain": [
       "array([[140001,   1531],\n",
       "       [  7799,  11397]])"
      ]
     },
     "execution_count": 46,
     "metadata": {},
     "output_type": "execute_result"
    }
   ],
   "source": [
    "confusion_matrix(y_test, y_pred)"
   ]
  },
  {
   "cell_type": "code",
   "execution_count": 76,
   "metadata": {},
   "outputs": [
    {
     "data": {
      "text/plain": [
       "array([0])"
      ]
     },
     "execution_count": 76,
     "metadata": {},
     "output_type": "execute_result"
    }
   ],
   "source": [
    "[X_train[524689]]\n",
    "clf.predict(['love women'])"
   ]
  },
  {
   "cell_type": "code",
   "execution_count": 71,
   "metadata": {},
   "outputs": [],
   "source": [
    "import pickle\n",
    "filename = './data/data_nlp/classifier.sav'\n",
    "pickle.dump(clf, open(filename, 'wb'))"
   ]
  },
  {
   "cell_type": "code",
   "execution_count": 70,
   "metadata": {},
   "outputs": [
    {
     "data": {
      "text/html": [
       "<div>\n",
       "<style scoped>\n",
       "    .dataframe tbody tr th:only-of-type {\n",
       "        vertical-align: middle;\n",
       "    }\n",
       "\n",
       "    .dataframe tbody tr th {\n",
       "        vertical-align: top;\n",
       "    }\n",
       "\n",
       "    .dataframe thead th {\n",
       "        text-align: right;\n",
       "    }\n",
       "</style>\n",
       "<table border=\"1\" class=\"dataframe\">\n",
       "  <thead>\n",
       "    <tr style=\"text-align: right;\">\n",
       "      <th></th>\n",
       "      <th>text</th>\n",
       "      <th>category</th>\n",
       "    </tr>\n",
       "  </thead>\n",
       "  <tbody>\n",
       "    <tr>\n",
       "      <th>0</th>\n",
       "      <td>Entitled, obnoxious, defensive, lying weasel. ...</td>\n",
       "      <td>0</td>\n",
       "    </tr>\n",
       "    <tr>\n",
       "      <th>1</th>\n",
       "      <td>Thank you  and  for what you did for the women...</td>\n",
       "      <td>0</td>\n",
       "    </tr>\n",
       "    <tr>\n",
       "      <th>2</th>\n",
       "      <td>Knitting (s) &amp;amp; getting ready for January 1...</td>\n",
       "      <td>0</td>\n",
       "    </tr>\n",
       "    <tr>\n",
       "      <th>3</th>\n",
       "      <td>Yep just like triffeling women weaponized thei...</td>\n",
       "      <td>1</td>\n",
       "    </tr>\n",
       "    <tr>\n",
       "      <th>4</th>\n",
       "      <td>No, the President wants to end  movement posin...</td>\n",
       "      <td>0</td>\n",
       "    </tr>\n",
       "    <tr>\n",
       "      <th>...</th>\n",
       "      <td>...</td>\n",
       "      <td>...</td>\n",
       "    </tr>\n",
       "    <tr>\n",
       "      <th>807169</th>\n",
       "      <td>Let’s not forget that this “iconic kiss” was u...</td>\n",
       "      <td>0</td>\n",
       "    </tr>\n",
       "    <tr>\n",
       "      <th>807170</th>\n",
       "      <td>DEFINITELY....the only one any of us should su...</td>\n",
       "      <td>0</td>\n",
       "    </tr>\n",
       "    <tr>\n",
       "      <th>807171</th>\n",
       "      <td>Did the  movement count the dollars of Erin An...</td>\n",
       "      <td>0</td>\n",
       "    </tr>\n",
       "    <tr>\n",
       "      <th>807172</th>\n",
       "      <td>This is one of my all time fav songs &amp;amp; vid...</td>\n",
       "      <td>1</td>\n",
       "    </tr>\n",
       "    <tr>\n",
       "      <th>807173</th>\n",
       "      <td>I watched your news on the death of the sailo...</td>\n",
       "      <td>0</td>\n",
       "    </tr>\n",
       "  </tbody>\n",
       "</table>\n",
       "<p>803638 rows × 2 columns</p>\n",
       "</div>"
      ],
      "text/plain": [
       "                                                     text  category\n",
       "0       Entitled, obnoxious, defensive, lying weasel. ...         0\n",
       "1       Thank you  and  for what you did for the women...         0\n",
       "2       Knitting (s) &amp; getting ready for January 1...         0\n",
       "3       Yep just like triffeling women weaponized thei...         1\n",
       "4       No, the President wants to end  movement posin...         0\n",
       "...                                                   ...       ...\n",
       "807169  Let’s not forget that this “iconic kiss” was u...         0\n",
       "807170  DEFINITELY....the only one any of us should su...         0\n",
       "807171  Did the  movement count the dollars of Erin An...         0\n",
       "807172  This is one of my all time fav songs &amp; vid...         1\n",
       "807173   I watched your news on the death of the sailo...         0\n",
       "\n",
       "[803638 rows x 2 columns]"
      ]
     },
     "execution_count": 70,
     "metadata": {},
     "output_type": "execute_result"
    }
   ],
   "source": [
    "df"
   ]
  },
  {
   "cell_type": "markdown",
   "metadata": {},
   "source": [
    "***PREDICTIONS***"
   ]
  },
  {
   "cell_type": "code",
   "execution_count": 79,
   "metadata": {},
   "outputs": [
    {
     "data": {
      "text/plain": [
       "\"[ Malia ] knows what she is going to do. They have a plan for her and her family feels comfortable knowing that it's not something unstructured,\""
      ]
     },
     "execution_count": 79,
     "metadata": {},
     "output_type": "execute_result"
    }
   ],
   "source": [
    "year = 2016 # available: from 2015 to 2020\n",
    "PATH_DATA = './data/data_nlp/'\n",
    "QUOTES_FILE = PATH_DATA + f'quotes-{year}-filtered.json.bz2'\n",
    "CHUNK_SIZE = 500\n",
    "\n",
    "reader = pd.read_json(QUOTES_FILE, lines=True, compression='bz2', chunksize=CHUNK_SIZE, typ='frame')\n",
    "\n",
    "chunks = [] #utile pour plus loins quand on fait le feature extraction\n",
    "i=0\n",
    "for chunk in reader:\n",
    "    df_0 = chunk\n",
    "    break\n",
    "df_0.quotation[0]"
   ]
  },
  {
   "cell_type": "code",
   "execution_count": 103,
   "metadata": {},
   "outputs": [
    {
     "name": "stdout",
     "output_type": "stream",
     "text": [
      "year 2020 have been procesed in 134.20068502426147 [s]\n",
      "full data have been processed in 134.2030429840088 [s]\n"
     ]
    },
    {
     "data": {
      "text/html": [
       "<div>\n",
       "<style scoped>\n",
       "    .dataframe tbody tr th:only-of-type {\n",
       "        vertical-align: middle;\n",
       "    }\n",
       "\n",
       "    .dataframe tbody tr th {\n",
       "        vertical-align: top;\n",
       "    }\n",
       "\n",
       "    .dataframe thead th {\n",
       "        text-align: right;\n",
       "    }\n",
       "</style>\n",
       "<table border=\"1\" class=\"dataframe\">\n",
       "  <thead>\n",
       "    <tr style=\"text-align: right;\">\n",
       "      <th></th>\n",
       "      <th>quoteID</th>\n",
       "      <th>quotation</th>\n",
       "      <th>speaker</th>\n",
       "      <th>qids</th>\n",
       "      <th>date</th>\n",
       "      <th>numOccurrences</th>\n",
       "      <th>probas</th>\n",
       "      <th>urls</th>\n",
       "      <th>phase</th>\n",
       "    </tr>\n",
       "  </thead>\n",
       "  <tbody>\n",
       "    <tr>\n",
       "      <th>0</th>\n",
       "      <td>2020-03-10-007520</td>\n",
       "      <td>Beneath those those long cassocks -- whether b...</td>\n",
       "      <td>Carlo Poggioli</td>\n",
       "      <td>[Q5041579]</td>\n",
       "      <td>2020-03-10 14:03:54</td>\n",
       "      <td>1</td>\n",
       "      <td>[[Carlo Poggioli, 0.915], [Prince of Wales, 0....</td>\n",
       "      <td>[http://www.vulture.com/2020/03/the-new-pope-h...</td>\n",
       "      <td>E</td>\n",
       "    </tr>\n",
       "    <tr>\n",
       "      <th>1</th>\n",
       "      <td>2020-03-04-008310</td>\n",
       "      <td>But in practice giving a claim of `sex games g...</td>\n",
       "      <td>None</td>\n",
       "      <td>[]</td>\n",
       "      <td>2020-03-04 11:02:44</td>\n",
       "      <td>1</td>\n",
       "      <td>[[None, 0.8985], [Harriet Harman, 0.0631], [Ma...</td>\n",
       "      <td>[https://www.independent.co.uk/life-style/wome...</td>\n",
       "      <td>E</td>\n",
       "    </tr>\n",
       "    <tr>\n",
       "      <th>2</th>\n",
       "      <td>2020-03-03-010183</td>\n",
       "      <td>cultural movement centered on a set of social ...</td>\n",
       "      <td>Katherine Stewart</td>\n",
       "      <td>[Q21466308, Q43390345, Q43392594, Q6376550]</td>\n",
       "      <td>2020-03-03 00:00:00</td>\n",
       "      <td>2</td>\n",
       "      <td>[[Katherine Stewart, 0.6689], [None, 0.3312]]</td>\n",
       "      <td>[https://www.rawstory.com/2020/03/hot-topics-i...</td>\n",
       "      <td>E</td>\n",
       "    </tr>\n",
       "    <tr>\n",
       "      <th>3</th>\n",
       "      <td>2020-03-29-024263</td>\n",
       "      <td>The Diocese followed its established procedure...</td>\n",
       "      <td>None</td>\n",
       "      <td>[]</td>\n",
       "      <td>2020-03-29 21:54:00</td>\n",
       "      <td>1</td>\n",
       "      <td>[[None, 0.8938], [James Walsh, 0.1062]]</td>\n",
       "      <td>[https://www.timesleader.com/news/778191/pries...</td>\n",
       "      <td>E</td>\n",
       "    </tr>\n",
       "    <tr>\n",
       "      <th>4</th>\n",
       "      <td>2020-03-05-053457</td>\n",
       "      <td>Predators who actually travel in an attempt to...</td>\n",
       "      <td>None</td>\n",
       "      <td>[]</td>\n",
       "      <td>2020-03-05 18:05:02</td>\n",
       "      <td>1</td>\n",
       "      <td>[[None, 0.5368], [J. Douglas, 0.4632]]</td>\n",
       "      <td>[http://chattanoogan.com/2020/3/5/405198/Man-W...</td>\n",
       "      <td>E</td>\n",
       "    </tr>\n",
       "    <tr>\n",
       "      <th>...</th>\n",
       "      <td>...</td>\n",
       "      <td>...</td>\n",
       "      <td>...</td>\n",
       "      <td>...</td>\n",
       "      <td>...</td>\n",
       "      <td>...</td>\n",
       "      <td>...</td>\n",
       "      <td>...</td>\n",
       "      <td>...</td>\n",
       "    </tr>\n",
       "    <tr>\n",
       "      <th>6366</th>\n",
       "      <td>2020-03-07-019853</td>\n",
       "      <td>It's no surprise that Democrat logic in 2020 m...</td>\n",
       "      <td>None</td>\n",
       "      <td>[]</td>\n",
       "      <td>2020-03-07 15:53:23</td>\n",
       "      <td>3</td>\n",
       "      <td>[[None, 0.8521], [Steny Hoyer, 0.0417], [Laure...</td>\n",
       "      <td>[https://pjmedia.com/trending/majority-of-demo...</td>\n",
       "      <td>E</td>\n",
       "    </tr>\n",
       "    <tr>\n",
       "      <th>6367</th>\n",
       "      <td>2020-03-18-029792</td>\n",
       "      <td>If I do get the chance to be in the kitchen, I...</td>\n",
       "      <td>None</td>\n",
       "      <td>[]</td>\n",
       "      <td>2020-03-18 12:21:21</td>\n",
       "      <td>1</td>\n",
       "      <td>[[None, 0.5954], [Fred Sirieix, 0.4046]]</td>\n",
       "      <td>[http://www.hellomagazine.com/brides/202003188...</td>\n",
       "      <td>E</td>\n",
       "    </tr>\n",
       "    <tr>\n",
       "      <th>6368</th>\n",
       "      <td>2020-03-10-013870</td>\n",
       "      <td>Everyone speaks out says how sorry they are wh...</td>\n",
       "      <td>None</td>\n",
       "      <td>[]</td>\n",
       "      <td>2020-03-10 15:00:21</td>\n",
       "      <td>3</td>\n",
       "      <td>[[None, 0.9541], [Emily Sears, 0.0459]]</td>\n",
       "      <td>[http://greenwichtime.com/entertainment/articl...</td>\n",
       "      <td>E</td>\n",
       "    </tr>\n",
       "    <tr>\n",
       "      <th>6369</th>\n",
       "      <td>2020-03-09-039253</td>\n",
       "      <td>Men and women are much more likely to be satis...</td>\n",
       "      <td>Robin Milhausen</td>\n",
       "      <td>[Q7352658]</td>\n",
       "      <td>2020-03-09 11:00:31</td>\n",
       "      <td>4</td>\n",
       "      <td>[[Robin Milhausen, 0.8862], [None, 0.1138]]</td>\n",
       "      <td>[https://calgarysun.com/life/sex-files/0309-se...</td>\n",
       "      <td>E</td>\n",
       "    </tr>\n",
       "    <tr>\n",
       "      <th>6370</th>\n",
       "      <td>2020-03-08-029313</td>\n",
       "      <td>That means people who identify as women or peo...</td>\n",
       "      <td>Nighat Dad</td>\n",
       "      <td>[Q20050928]</td>\n",
       "      <td>2020-03-08 07:21:04</td>\n",
       "      <td>1</td>\n",
       "      <td>[[Nighat Dad, 0.8996], [None, 0.1004]]</td>\n",
       "      <td>[https://www.dawn.com/news/1539139/women-on-th...</td>\n",
       "      <td>E</td>\n",
       "    </tr>\n",
       "  </tbody>\n",
       "</table>\n",
       "<p>6371 rows × 9 columns</p>\n",
       "</div>"
      ],
      "text/plain": [
       "                quoteID                                          quotation  \\\n",
       "0     2020-03-10-007520  Beneath those those long cassocks -- whether b...   \n",
       "1     2020-03-04-008310  But in practice giving a claim of `sex games g...   \n",
       "2     2020-03-03-010183  cultural movement centered on a set of social ...   \n",
       "3     2020-03-29-024263  The Diocese followed its established procedure...   \n",
       "4     2020-03-05-053457  Predators who actually travel in an attempt to...   \n",
       "...                 ...                                                ...   \n",
       "6366  2020-03-07-019853  It's no surprise that Democrat logic in 2020 m...   \n",
       "6367  2020-03-18-029792  If I do get the chance to be in the kitchen, I...   \n",
       "6368  2020-03-10-013870  Everyone speaks out says how sorry they are wh...   \n",
       "6369  2020-03-09-039253  Men and women are much more likely to be satis...   \n",
       "6370  2020-03-08-029313  That means people who identify as women or peo...   \n",
       "\n",
       "                speaker                                         qids  \\\n",
       "0        Carlo Poggioli                                   [Q5041579]   \n",
       "1                  None                                           []   \n",
       "2     Katherine Stewart  [Q21466308, Q43390345, Q43392594, Q6376550]   \n",
       "3                  None                                           []   \n",
       "4                  None                                           []   \n",
       "...                 ...                                          ...   \n",
       "6366               None                                           []   \n",
       "6367               None                                           []   \n",
       "6368               None                                           []   \n",
       "6369    Robin Milhausen                                   [Q7352658]   \n",
       "6370         Nighat Dad                                  [Q20050928]   \n",
       "\n",
       "                    date  numOccurrences  \\\n",
       "0    2020-03-10 14:03:54               1   \n",
       "1    2020-03-04 11:02:44               1   \n",
       "2    2020-03-03 00:00:00               2   \n",
       "3    2020-03-29 21:54:00               1   \n",
       "4    2020-03-05 18:05:02               1   \n",
       "...                  ...             ...   \n",
       "6366 2020-03-07 15:53:23               3   \n",
       "6367 2020-03-18 12:21:21               1   \n",
       "6368 2020-03-10 15:00:21               3   \n",
       "6369 2020-03-09 11:00:31               4   \n",
       "6370 2020-03-08 07:21:04               1   \n",
       "\n",
       "                                                 probas  \\\n",
       "0     [[Carlo Poggioli, 0.915], [Prince of Wales, 0....   \n",
       "1     [[None, 0.8985], [Harriet Harman, 0.0631], [Ma...   \n",
       "2         [[Katherine Stewart, 0.6689], [None, 0.3312]]   \n",
       "3               [[None, 0.8938], [James Walsh, 0.1062]]   \n",
       "4                [[None, 0.5368], [J. Douglas, 0.4632]]   \n",
       "...                                                 ...   \n",
       "6366  [[None, 0.8521], [Steny Hoyer, 0.0417], [Laure...   \n",
       "6367           [[None, 0.5954], [Fred Sirieix, 0.4046]]   \n",
       "6368            [[None, 0.9541], [Emily Sears, 0.0459]]   \n",
       "6369        [[Robin Milhausen, 0.8862], [None, 0.1138]]   \n",
       "6370             [[Nighat Dad, 0.8996], [None, 0.1004]]   \n",
       "\n",
       "                                                   urls phase  \n",
       "0     [http://www.vulture.com/2020/03/the-new-pope-h...     E  \n",
       "1     [https://www.independent.co.uk/life-style/wome...     E  \n",
       "2     [https://www.rawstory.com/2020/03/hot-topics-i...     E  \n",
       "3     [https://www.timesleader.com/news/778191/pries...     E  \n",
       "4     [http://chattanoogan.com/2020/3/5/405198/Man-W...     E  \n",
       "...                                                 ...   ...  \n",
       "6366  [https://pjmedia.com/trending/majority-of-demo...     E  \n",
       "6367  [http://www.hellomagazine.com/brides/202003188...     E  \n",
       "6368  [http://greenwichtime.com/entertainment/articl...     E  \n",
       "6369  [https://calgarysun.com/life/sex-files/0309-se...     E  \n",
       "6370  [https://www.dawn.com/news/1539139/women-on-th...     E  \n",
       "\n",
       "[6371 rows x 9 columns]"
      ]
     },
     "execution_count": 103,
     "metadata": {},
     "output_type": "execute_result"
    }
   ],
   "source": [
    "# CREATE MONTHLY QUOTATION WHICH SPEAK ABOUT METOO\n",
    "\n",
    "import bz2\n",
    "import json\n",
    "from time import time\n",
    "\n",
    "PATH_DATA = './data/data_nlp/'\n",
    "path_to_quotes= PATH_DATA + f'quotes-{year}-filtered.json.bz2'\n",
    "\n",
    "\n",
    "from helper import people_dict, metoo_dict, action_dict\n",
    "keywords = people_dict\\\n",
    "          .union(metoo_dict)\\\n",
    "          .union(action_dict)\n",
    "years = [2020]\n",
    "start = time()\n",
    "for year in years:\n",
    "    #path_to_quotes = f'./data/Quotebank_processed/Quotebank/quotes-{year}-filtered.json.bz2'\n",
    "    path_to_quotes= PATH_DATA + f'quotes-{year}-filtered.json.bz2'\n",
    "    begin = time()\n",
    "    with bz2.open(path_to_quotes, 'rb') as s_file:\n",
    "        for instance in s_file:\n",
    "            instance = json.loads(instance) # loading a sample\n",
    "            month = instance['date'][5:7]\n",
    "            path_per_month = PATH_DATA + f'metoo_{year}_{month}.json.bz2'\n",
    "            \n",
    "            quote = str(instance['quotation']).lower()\n",
    "            with bz2.open(path_per_month, 'ab') as d_file:\n",
    "                for word in keywords:\n",
    "                    if word in f' {quote} ':\n",
    "                        d_file.write((json.dumps(instance)+'\\n').encode('utf-8'))\n",
    "                        break\n",
    "    print(f'year {year} have been procesed in {time()-begin} [s]')\n",
    "\n",
    "print(f'full data have been processed in {time()-start} [s]')\n",
    "\n",
    "import pandas as pd\n",
    "\n",
    "year = 2020\n",
    "month = 3\n",
    "if month < 10:\n",
    "    path_per_month = PATH_DATA + f'metoo_{year}_0{month}.json.bz2'\n",
    "else:\n",
    "    path_per_month = PATH_DATA + f'/metoo_{year}_{month}.json.bz2'\n",
    "    \n",
    "df = pd.read_json(path_per_month, lines=True, compression='bz2')\n",
    "df"
   ]
  },
  {
   "cell_type": "code",
   "execution_count": 106,
   "metadata": {},
   "outputs": [
    {
     "data": {
      "text/plain": [
       "array([0])"
      ]
     },
     "execution_count": 106,
     "metadata": {},
     "output_type": "execute_result"
    }
   ],
   "source": []
  },
  {
   "cell_type": "code",
   "execution_count": 107,
   "metadata": {},
   "outputs": [],
   "source": [
    "df['Hatred'] = df.quotation.apply(lambda quote: clf.predict([quote]))"
   ]
  },
  {
   "cell_type": "code",
   "execution_count": 111,
   "metadata": {},
   "outputs": [
    {
     "data": {
      "text/html": [
       "<div>\n",
       "<style scoped>\n",
       "    .dataframe tbody tr th:only-of-type {\n",
       "        vertical-align: middle;\n",
       "    }\n",
       "\n",
       "    .dataframe tbody tr th {\n",
       "        vertical-align: top;\n",
       "    }\n",
       "\n",
       "    .dataframe thead th {\n",
       "        text-align: right;\n",
       "    }\n",
       "</style>\n",
       "<table border=\"1\" class=\"dataframe\">\n",
       "  <thead>\n",
       "    <tr style=\"text-align: right;\">\n",
       "      <th></th>\n",
       "      <th>quoteID</th>\n",
       "      <th>quotation</th>\n",
       "      <th>speaker</th>\n",
       "      <th>qids</th>\n",
       "      <th>date</th>\n",
       "      <th>numOccurrences</th>\n",
       "      <th>probas</th>\n",
       "      <th>urls</th>\n",
       "      <th>phase</th>\n",
       "      <th>Hatred</th>\n",
       "    </tr>\n",
       "  </thead>\n",
       "  <tbody>\n",
       "    <tr>\n",
       "      <th>0</th>\n",
       "      <td>2020-03-10-007520</td>\n",
       "      <td>Beneath those those long cassocks -- whether b...</td>\n",
       "      <td>Carlo Poggioli</td>\n",
       "      <td>[Q5041579]</td>\n",
       "      <td>2020-03-10 14:03:54</td>\n",
       "      <td>1</td>\n",
       "      <td>[[Carlo Poggioli, 0.915], [Prince of Wales, 0....</td>\n",
       "      <td>[http://www.vulture.com/2020/03/the-new-pope-h...</td>\n",
       "      <td>E</td>\n",
       "      <td>[1]</td>\n",
       "    </tr>\n",
       "    <tr>\n",
       "      <th>1</th>\n",
       "      <td>2020-03-04-008310</td>\n",
       "      <td>But in practice giving a claim of `sex games g...</td>\n",
       "      <td>None</td>\n",
       "      <td>[]</td>\n",
       "      <td>2020-03-04 11:02:44</td>\n",
       "      <td>1</td>\n",
       "      <td>[[None, 0.8985], [Harriet Harman, 0.0631], [Ma...</td>\n",
       "      <td>[https://www.independent.co.uk/life-style/wome...</td>\n",
       "      <td>E</td>\n",
       "      <td>[0]</td>\n",
       "    </tr>\n",
       "    <tr>\n",
       "      <th>2</th>\n",
       "      <td>2020-03-03-010183</td>\n",
       "      <td>cultural movement centered on a set of social ...</td>\n",
       "      <td>Katherine Stewart</td>\n",
       "      <td>[Q21466308, Q43390345, Q43392594, Q6376550]</td>\n",
       "      <td>2020-03-03 00:00:00</td>\n",
       "      <td>2</td>\n",
       "      <td>[[Katherine Stewart, 0.6689], [None, 0.3312]]</td>\n",
       "      <td>[https://www.rawstory.com/2020/03/hot-topics-i...</td>\n",
       "      <td>E</td>\n",
       "      <td>[0]</td>\n",
       "    </tr>\n",
       "    <tr>\n",
       "      <th>3</th>\n",
       "      <td>2020-03-29-024263</td>\n",
       "      <td>The Diocese followed its established procedure...</td>\n",
       "      <td>None</td>\n",
       "      <td>[]</td>\n",
       "      <td>2020-03-29 21:54:00</td>\n",
       "      <td>1</td>\n",
       "      <td>[[None, 0.8938], [James Walsh, 0.1062]]</td>\n",
       "      <td>[https://www.timesleader.com/news/778191/pries...</td>\n",
       "      <td>E</td>\n",
       "      <td>[0]</td>\n",
       "    </tr>\n",
       "    <tr>\n",
       "      <th>4</th>\n",
       "      <td>2020-03-05-053457</td>\n",
       "      <td>Predators who actually travel in an attempt to...</td>\n",
       "      <td>None</td>\n",
       "      <td>[]</td>\n",
       "      <td>2020-03-05 18:05:02</td>\n",
       "      <td>1</td>\n",
       "      <td>[[None, 0.5368], [J. Douglas, 0.4632]]</td>\n",
       "      <td>[http://chattanoogan.com/2020/3/5/405198/Man-W...</td>\n",
       "      <td>E</td>\n",
       "      <td>[0]</td>\n",
       "    </tr>\n",
       "    <tr>\n",
       "      <th>...</th>\n",
       "      <td>...</td>\n",
       "      <td>...</td>\n",
       "      <td>...</td>\n",
       "      <td>...</td>\n",
       "      <td>...</td>\n",
       "      <td>...</td>\n",
       "      <td>...</td>\n",
       "      <td>...</td>\n",
       "      <td>...</td>\n",
       "      <td>...</td>\n",
       "    </tr>\n",
       "    <tr>\n",
       "      <th>6366</th>\n",
       "      <td>2020-03-07-019853</td>\n",
       "      <td>It's no surprise that Democrat logic in 2020 m...</td>\n",
       "      <td>None</td>\n",
       "      <td>[]</td>\n",
       "      <td>2020-03-07 15:53:23</td>\n",
       "      <td>3</td>\n",
       "      <td>[[None, 0.8521], [Steny Hoyer, 0.0417], [Laure...</td>\n",
       "      <td>[https://pjmedia.com/trending/majority-of-demo...</td>\n",
       "      <td>E</td>\n",
       "      <td>[0]</td>\n",
       "    </tr>\n",
       "    <tr>\n",
       "      <th>6367</th>\n",
       "      <td>2020-03-18-029792</td>\n",
       "      <td>If I do get the chance to be in the kitchen, I...</td>\n",
       "      <td>None</td>\n",
       "      <td>[]</td>\n",
       "      <td>2020-03-18 12:21:21</td>\n",
       "      <td>1</td>\n",
       "      <td>[[None, 0.5954], [Fred Sirieix, 0.4046]]</td>\n",
       "      <td>[http://www.hellomagazine.com/brides/202003188...</td>\n",
       "      <td>E</td>\n",
       "      <td>[0]</td>\n",
       "    </tr>\n",
       "    <tr>\n",
       "      <th>6368</th>\n",
       "      <td>2020-03-10-013870</td>\n",
       "      <td>Everyone speaks out says how sorry they are wh...</td>\n",
       "      <td>None</td>\n",
       "      <td>[]</td>\n",
       "      <td>2020-03-10 15:00:21</td>\n",
       "      <td>3</td>\n",
       "      <td>[[None, 0.9541], [Emily Sears, 0.0459]]</td>\n",
       "      <td>[http://greenwichtime.com/entertainment/articl...</td>\n",
       "      <td>E</td>\n",
       "      <td>[1]</td>\n",
       "    </tr>\n",
       "    <tr>\n",
       "      <th>6369</th>\n",
       "      <td>2020-03-09-039253</td>\n",
       "      <td>Men and women are much more likely to be satis...</td>\n",
       "      <td>Robin Milhausen</td>\n",
       "      <td>[Q7352658]</td>\n",
       "      <td>2020-03-09 11:00:31</td>\n",
       "      <td>4</td>\n",
       "      <td>[[Robin Milhausen, 0.8862], [None, 0.1138]]</td>\n",
       "      <td>[https://calgarysun.com/life/sex-files/0309-se...</td>\n",
       "      <td>E</td>\n",
       "      <td>[1]</td>\n",
       "    </tr>\n",
       "    <tr>\n",
       "      <th>6370</th>\n",
       "      <td>2020-03-08-029313</td>\n",
       "      <td>That means people who identify as women or peo...</td>\n",
       "      <td>Nighat Dad</td>\n",
       "      <td>[Q20050928]</td>\n",
       "      <td>2020-03-08 07:21:04</td>\n",
       "      <td>1</td>\n",
       "      <td>[[Nighat Dad, 0.8996], [None, 0.1004]]</td>\n",
       "      <td>[https://www.dawn.com/news/1539139/women-on-th...</td>\n",
       "      <td>E</td>\n",
       "      <td>[0]</td>\n",
       "    </tr>\n",
       "  </tbody>\n",
       "</table>\n",
       "<p>6371 rows × 10 columns</p>\n",
       "</div>"
      ],
      "text/plain": [
       "                quoteID                                          quotation  \\\n",
       "0     2020-03-10-007520  Beneath those those long cassocks -- whether b...   \n",
       "1     2020-03-04-008310  But in practice giving a claim of `sex games g...   \n",
       "2     2020-03-03-010183  cultural movement centered on a set of social ...   \n",
       "3     2020-03-29-024263  The Diocese followed its established procedure...   \n",
       "4     2020-03-05-053457  Predators who actually travel in an attempt to...   \n",
       "...                 ...                                                ...   \n",
       "6366  2020-03-07-019853  It's no surprise that Democrat logic in 2020 m...   \n",
       "6367  2020-03-18-029792  If I do get the chance to be in the kitchen, I...   \n",
       "6368  2020-03-10-013870  Everyone speaks out says how sorry they are wh...   \n",
       "6369  2020-03-09-039253  Men and women are much more likely to be satis...   \n",
       "6370  2020-03-08-029313  That means people who identify as women or peo...   \n",
       "\n",
       "                speaker                                         qids  \\\n",
       "0        Carlo Poggioli                                   [Q5041579]   \n",
       "1                  None                                           []   \n",
       "2     Katherine Stewart  [Q21466308, Q43390345, Q43392594, Q6376550]   \n",
       "3                  None                                           []   \n",
       "4                  None                                           []   \n",
       "...                 ...                                          ...   \n",
       "6366               None                                           []   \n",
       "6367               None                                           []   \n",
       "6368               None                                           []   \n",
       "6369    Robin Milhausen                                   [Q7352658]   \n",
       "6370         Nighat Dad                                  [Q20050928]   \n",
       "\n",
       "                    date  numOccurrences  \\\n",
       "0    2020-03-10 14:03:54               1   \n",
       "1    2020-03-04 11:02:44               1   \n",
       "2    2020-03-03 00:00:00               2   \n",
       "3    2020-03-29 21:54:00               1   \n",
       "4    2020-03-05 18:05:02               1   \n",
       "...                  ...             ...   \n",
       "6366 2020-03-07 15:53:23               3   \n",
       "6367 2020-03-18 12:21:21               1   \n",
       "6368 2020-03-10 15:00:21               3   \n",
       "6369 2020-03-09 11:00:31               4   \n",
       "6370 2020-03-08 07:21:04               1   \n",
       "\n",
       "                                                 probas  \\\n",
       "0     [[Carlo Poggioli, 0.915], [Prince of Wales, 0....   \n",
       "1     [[None, 0.8985], [Harriet Harman, 0.0631], [Ma...   \n",
       "2         [[Katherine Stewart, 0.6689], [None, 0.3312]]   \n",
       "3               [[None, 0.8938], [James Walsh, 0.1062]]   \n",
       "4                [[None, 0.5368], [J. Douglas, 0.4632]]   \n",
       "...                                                 ...   \n",
       "6366  [[None, 0.8521], [Steny Hoyer, 0.0417], [Laure...   \n",
       "6367           [[None, 0.5954], [Fred Sirieix, 0.4046]]   \n",
       "6368            [[None, 0.9541], [Emily Sears, 0.0459]]   \n",
       "6369        [[Robin Milhausen, 0.8862], [None, 0.1138]]   \n",
       "6370             [[Nighat Dad, 0.8996], [None, 0.1004]]   \n",
       "\n",
       "                                                   urls phase Hatred  \n",
       "0     [http://www.vulture.com/2020/03/the-new-pope-h...     E    [1]  \n",
       "1     [https://www.independent.co.uk/life-style/wome...     E    [0]  \n",
       "2     [https://www.rawstory.com/2020/03/hot-topics-i...     E    [0]  \n",
       "3     [https://www.timesleader.com/news/778191/pries...     E    [0]  \n",
       "4     [http://chattanoogan.com/2020/3/5/405198/Man-W...     E    [0]  \n",
       "...                                                 ...   ...    ...  \n",
       "6366  [https://pjmedia.com/trending/majority-of-demo...     E    [0]  \n",
       "6367  [http://www.hellomagazine.com/brides/202003188...     E    [0]  \n",
       "6368  [http://greenwichtime.com/entertainment/articl...     E    [1]  \n",
       "6369  [https://calgarysun.com/life/sex-files/0309-se...     E    [1]  \n",
       "6370  [https://www.dawn.com/news/1539139/women-on-th...     E    [0]  \n",
       "\n",
       "[6371 rows x 10 columns]"
      ]
     },
     "execution_count": 111,
     "metadata": {},
     "output_type": "execute_result"
    }
   ],
   "source": [
    "df"
   ]
  },
  {
   "cell_type": "code",
   "execution_count": 129,
   "metadata": {},
   "outputs": [
    {
     "name": "stdout",
     "output_type": "stream",
     "text": [
      "Beneath those those long cassocks -- whether black for priests, red for cardinals, or white for popes -- there are real human beings, who, in spite of their vow of chastity to God, still have their passions, loves, and sexual desires, repressed out of love for the rules of the Church in an acceptance of the sense of `sin' that the Church imposed since its official establishment,\n",
      "\n",
      "Were you ever forced to have sex when you did not want to\n",
      "\n",
      "I think that today in the former Soviet Union countries the word feminism carries some negative connotations and I'd like to say that feminism is not about just fighting for women's rights, it's also about combating major issues such as domestic violence, child marriage, bride kidnapping, so I stand for every person's rights to be fully respected,\n",
      "\n",
      "My friend, a stylist, is best friends with Sophie Wessex, and Sophie buys from us. She got our [ £ 295 ] black Sadie jumpsuit for herself and then asked for one for Kate. She said: `Kate wants one, can I get one as well?' Kate's never been seen wearing it in public. It's home-wear.\n",
      "\n",
      "As you and I worked on Catch and Kill... in part about the damage Woody Allen did to my family... you were secretly planning to publish a book by the person who committed those acts of sexual abuse,\n",
      "\n",
      "I sit here day in, day out listening to appalling domestic violence in New Zealand. Domestic violence is a scourge on New Zealand.\n",
      "\n",
      "To all my Southside n ***** as that know me best / I feel like Taylor Swift might owe me sex.\n",
      "\n",
      "Now show some strength and don't write back. If u do, it's just your denial and disease having the power of the last word. If u actually say u are trying to get better, It's just another lie amongst the millions. Fuck u Harvey Weinstein. I pray there is a real hell,\n",
      "\n",
      "The Coronavirus crisis has had an impact on every element of... Do you have an interesting news story? Contact the newsdesk on 0203 119 3303 or alternatively get in touch via the contact form. Related Articles Deliberate coughing will be treated as an assault says CPS People claiming to have COVID-19 who deliberately cough over officers will be jailed, the CPS has warned. First responder COVID-19 information hub: useful links and updates We've created a one-stop information hub for COVID-19 updates, guidance and contacts for first responders including for domestic violence cases. House where Hitler was born to become police precinct Austrian Interior Ministry says police use of building will end Nazi association. Sign in to your account Keep me Advertise your offer or business\n",
      "\n",
      "But for thousands of women and children across Ireland, home is a place of violence and fear. It is important to remember that workplaces and schools often offer sanctuary for victims of domestic violence.\n",
      "\n",
      "After 60 plus years, after the sexual revolution and all of the destruction of the family, it's time to try things like this and to watch these experiments closely.\n",
      "\n",
      "Anything that sheds light and helps people relate to domestic violence or show them that there is a way out would be a way to spread a good message,\n",
      "\n",
      "So sad. I hope she gets the help she needs. No one deserves domestic abuse female OR MALE #DomesticAbuse #Cheater she literally chocked (sic) me out... i'm devastated.\n",
      "\n",
      "Every spare hotel bed offered to a woman fleeing domestic abuse is a bed of sanctuary, security, and of hope.\n",
      "\n",
      "Love is what makes domestic violence different from other crimes.\n",
      "\n",
      "Specifically, the appellant submitted that a conviction for domestic violence would preclude him from travelling to Australia for his business and submitted various internet articles about Australian immigration policy,\n",
      "\n",
      "The determination of biological sex is needed only in a dispute.\n",
      "\n",
      "It was such a big moment for me [ doing the Our Watch training ], when I understood that gender inequality is such a driver in causing domestic violence,\n",
      "\n",
      "While we have 37 laws related to women's rights, on the ground what is happening is widespread violence in the forms of domestic abuse, sexual harassment and rape,\n",
      "\n",
      "implicated in increased rates of drug - and alcohol-related offences, sexual offences, domestic violence, and gang violence, as well as sex-industry activities.\n",
      "\n"
     ]
    }
   ],
   "source": [
    "for i in range(20):\n",
    "    print(df[df.Hatred == 1].quotation.iloc[i] + '\\n')"
   ]
  },
  {
   "cell_type": "code",
   "execution_count": null,
   "metadata": {},
   "outputs": [],
   "source": []
  }
 ],
 "metadata": {
  "interpreter": {
   "hash": "2ddbd0b842a978e03471eb3a4ae18fdd24eb8ad76bdab23b363108c4c8f6a59c"
  },
  "kernelspec": {
   "display_name": "Python 3.8.11 64-bit ('ada': conda)",
   "name": "python3"
  },
  "language_info": {
   "codemirror_mode": {
    "name": "ipython",
    "version": 3
   },
   "file_extension": ".py",
   "mimetype": "text/x-python",
   "name": "python",
   "nbconvert_exporter": "python",
   "pygments_lexer": "ipython3",
   "version": "3.8.11"
  },
  "orig_nbformat": 4
 },
 "nbformat": 4,
 "nbformat_minor": 2
}
