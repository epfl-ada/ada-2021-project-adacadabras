{
 "cells": [
  {
   "cell_type": "code",
   "execution_count": 49,
   "metadata": {},
   "outputs": [],
   "source": [
    "import pandas as pd\n",
    "import spacy\n",
    "import string\n",
    "from sklearn.feature_extraction.text import TfidfVectorizer\n",
    "from sklearn.pipeline import Pipeline\n",
    "from sklearn.model_selection import train_test_split\n",
    "from sklearn.metrics import accuracy_score, classification_report, confusion_matrix\n",
    "\n",
    "from train_spacy import remove_url, remove_html, remove_emoji\n",
    "import re\n"
   ]
  },
  {
   "cell_type": "markdown",
   "metadata": {},
   "source": [
    "***Training pipeline***"
   ]
  },
  {
   "cell_type": "code",
   "execution_count": 50,
   "metadata": {},
   "outputs": [
    {
     "data": {
      "text/html": [
       "<div>\n",
       "<style scoped>\n",
       "    .dataframe tbody tr th:only-of-type {\n",
       "        vertical-align: middle;\n",
       "    }\n",
       "\n",
       "    .dataframe tbody tr th {\n",
       "        vertical-align: top;\n",
       "    }\n",
       "\n",
       "    .dataframe thead th {\n",
       "        text-align: right;\n",
       "    }\n",
       "</style>\n",
       "<table border=\"1\" class=\"dataframe\">\n",
       "  <thead>\n",
       "    <tr style=\"text-align: right;\">\n",
       "      <th></th>\n",
       "      <th>entry_id</th>\n",
       "      <th>link_id</th>\n",
       "      <th>parent_id</th>\n",
       "      <th>entry_utc</th>\n",
       "      <th>subreddit</th>\n",
       "      <th>author</th>\n",
       "      <th>body</th>\n",
       "      <th>image</th>\n",
       "      <th>label_date</th>\n",
       "      <th>week</th>\n",
       "      <th>group</th>\n",
       "      <th>sheet_order</th>\n",
       "      <th>annotator_id</th>\n",
       "      <th>level_1</th>\n",
       "      <th>level_2</th>\n",
       "      <th>level_3</th>\n",
       "      <th>strength</th>\n",
       "      <th>highlight</th>\n",
       "    </tr>\n",
       "  </thead>\n",
       "  <tbody>\n",
       "    <tr>\n",
       "      <th>0</th>\n",
       "      <td>exoxn7</td>\n",
       "      <td>t3_exoxn7</td>\n",
       "      <td>NaN</td>\n",
       "      <td>1580652620</td>\n",
       "      <td>badwomensanatomy</td>\n",
       "      <td>doggodone</td>\n",
       "      <td>Do you have the skin of a 80 year old grandma?...</td>\n",
       "      <td>Yes</td>\n",
       "      <td>17-02-2020</td>\n",
       "      <td>1</td>\n",
       "      <td>1</td>\n",
       "      <td>(1,)</td>\n",
       "      <td>3</td>\n",
       "      <td>Nonmisogynistic</td>\n",
       "      <td>None_of_the_categories</td>\n",
       "      <td>NaN</td>\n",
       "      <td>NaN</td>\n",
       "      <td>NaN</td>\n",
       "    </tr>\n",
       "    <tr>\n",
       "      <th>1</th>\n",
       "      <td>exoxn7</td>\n",
       "      <td>t3_exoxn7</td>\n",
       "      <td>NaN</td>\n",
       "      <td>1580652620</td>\n",
       "      <td>badwomensanatomy</td>\n",
       "      <td>doggodone</td>\n",
       "      <td>Do you have the skin of a 80 year old grandma?...</td>\n",
       "      <td>Yes</td>\n",
       "      <td>17-02-2020</td>\n",
       "      <td>1</td>\n",
       "      <td>1</td>\n",
       "      <td>(1,)</td>\n",
       "      <td>6</td>\n",
       "      <td>Nonmisogynistic</td>\n",
       "      <td>None_of_the_categories</td>\n",
       "      <td>NaN</td>\n",
       "      <td>NaN</td>\n",
       "      <td>NaN</td>\n",
       "    </tr>\n",
       "    <tr>\n",
       "      <th>2</th>\n",
       "      <td>exoxn7</td>\n",
       "      <td>t3_exoxn7</td>\n",
       "      <td>NaN</td>\n",
       "      <td>1580652620</td>\n",
       "      <td>badwomensanatomy</td>\n",
       "      <td>doggodone</td>\n",
       "      <td>Do you have the skin of a 80 year old grandma?...</td>\n",
       "      <td>Yes</td>\n",
       "      <td>17-02-2020</td>\n",
       "      <td>1</td>\n",
       "      <td>1</td>\n",
       "      <td>(1,)</td>\n",
       "      <td>4</td>\n",
       "      <td>Misogynistic</td>\n",
       "      <td>Derogation</td>\n",
       "      <td>Sexual_or_physical_limitations</td>\n",
       "      <td>Nature of the abuse is Implicit</td>\n",
       "      <td>skin of a 80 year old grandma? Worry no more, ...</td>\n",
       "    </tr>\n",
       "  </tbody>\n",
       "</table>\n",
       "</div>"
      ],
      "text/plain": [
       "  entry_id    link_id parent_id   entry_utc         subreddit     author  \\\n",
       "0   exoxn7  t3_exoxn7       NaN  1580652620  badwomensanatomy  doggodone   \n",
       "1   exoxn7  t3_exoxn7       NaN  1580652620  badwomensanatomy  doggodone   \n",
       "2   exoxn7  t3_exoxn7       NaN  1580652620  badwomensanatomy  doggodone   \n",
       "\n",
       "                                                body image  label_date  week  \\\n",
       "0  Do you have the skin of a 80 year old grandma?...   Yes  17-02-2020     1   \n",
       "1  Do you have the skin of a 80 year old grandma?...   Yes  17-02-2020     1   \n",
       "2  Do you have the skin of a 80 year old grandma?...   Yes  17-02-2020     1   \n",
       "\n",
       "   group sheet_order  annotator_id          level_1                 level_2  \\\n",
       "0      1        (1,)             3  Nonmisogynistic  None_of_the_categories   \n",
       "1      1        (1,)             6  Nonmisogynistic  None_of_the_categories   \n",
       "2      1        (1,)             4     Misogynistic              Derogation   \n",
       "\n",
       "                          level_3                         strength  \\\n",
       "0                             NaN                              NaN   \n",
       "1                             NaN                              NaN   \n",
       "2  Sexual_or_physical_limitations  Nature of the abuse is Implicit   \n",
       "\n",
       "                                           highlight  \n",
       "0                                                NaN  \n",
       "1                                                NaN  \n",
       "2  skin of a 80 year old grandma? Worry no more, ...  "
      ]
     },
     "execution_count": 50,
     "metadata": {},
     "output_type": "execute_result"
    }
   ],
   "source": [
    "PATH_DATA = './data/data_nlp/'\n",
    "AD1_FILE = PATH_DATA + 'original_labels.csv'\n",
    "CHUNK_SIZE = 1000\n",
    "\n",
    "df = pd.read_csv(AD1_FILE)\n",
    "df.head(3)"
   ]
  },
  {
   "cell_type": "code",
   "execution_count": 51,
   "metadata": {},
   "outputs": [],
   "source": [
    "df.drop(columns=['entry_id', 'link_id', 'parent_id', 'entry_utc', 'subreddit', 'author',\n",
    "       'label_date', 'week', 'group', 'sheet_order',\n",
    "       'annotator_id', 'level_2', 'level_3', 'strength',\n",
    "       'highlight'], inplace=True)"
   ]
  },
  {
   "cell_type": "code",
   "execution_count": 52,
   "metadata": {},
   "outputs": [],
   "source": [
    "one_hot = pd.get_dummies(df['level_1'])\n",
    "df['misogynistic'] = one_hot.Misogynistic.values"
   ]
  },
  {
   "cell_type": "code",
   "execution_count": 53,
   "metadata": {},
   "outputs": [],
   "source": [
    "df = df[~df['image'].isin(['Yes'])]\n",
    "df.drop(['image', 'level_1'], axis=1, inplace=True)\n",
    "df.dropna(inplace=True)\n",
    "df = df[~df['body'].isin(['[removed]'])]"
   ]
  },
  {
   "cell_type": "code",
   "execution_count": 54,
   "metadata": {},
   "outputs": [],
   "source": [
    "nlp = spacy.load('en_core_web_sm')\n",
    "punct = string.punctuation"
   ]
  },
  {
   "cell_type": "code",
   "execution_count": 13,
   "metadata": {},
   "outputs": [],
   "source": [
    "def remove_url(text):\n",
    "    url = re.compile(r\"https?://\\S+|www\\.\\S+\")\n",
    "    return url.sub(r\"\", text)\n",
    "\n",
    "def remove_html(text):\n",
    "    html = re.compile(r\"<.*?>\")\n",
    "    return html.sub(r\"\", text)\n",
    "\n",
    "def remove_emoji(text):\n",
    "    emoji_pattern = re.compile(\n",
    "        \"[\"\n",
    "        u\"\\U0001F600-\\U0001F64F\"\n",
    "        u\"\\U0001F300-\\U0001F5FF\"\n",
    "        u\"\\U0001F680-\\U0001F6FF\"\n",
    "        u\"\\U0001F1E0-\\U0001F1FF\"\n",
    "        u\"\\U00002702-\\U000027B0\"\n",
    "        u\"\\U000024C2-\\U0001F251\"\n",
    "        \"]+\",\n",
    "        flags=re.UNICODE\n",
    "    )\n",
    "    return emoji_pattern.sub(r\"\", text)\n",
    "\n",
    "def text_data_cleaning(sentence):\n",
    "    sentence = remove_url(sentence)\n",
    "    sentence = remove_html(sentence)\n",
    "    sentence = remove_emoji(sentence)\n",
    "    doc = nlp(sentence)\n",
    "\n",
    "    tokens = []\n",
    "    for token in doc:\n",
    "        if token.lemma_ != \"-PRON-\":\n",
    "            temp = token.lemma_.lower().strip()\n",
    "        else:\n",
    "            temp = token.lower_\n",
    "        tokens.append(temp)\n",
    "    \n",
    "    cleaned_tokens = []\n",
    "    for token in tokens:\n",
    "        if token not in nlp.Defaults.stop_words and token not in punct:\n",
    "            cleaned_tokens.append(token)\n",
    "    return cleaned_tokens"
   ]
  },
  {
   "cell_type": "markdown",
   "metadata": {},
   "source": [
    "***TFIDF***"
   ]
  },
  {
   "cell_type": "code",
   "execution_count": 17,
   "metadata": {},
   "outputs": [],
   "source": [
    "from sklearn.svm import LinearSVC"
   ]
  },
  {
   "cell_type": "code",
   "execution_count": 18,
   "metadata": {},
   "outputs": [],
   "source": [
    "tfidf = TfidfVectorizer(tokenizer=text_data_cleaning, ngram_range=(1,2))\n",
    "classifier = LinearSVC()"
   ]
  },
  {
   "cell_type": "code",
   "execution_count": 19,
   "metadata": {},
   "outputs": [],
   "source": [
    "X = df.body\n",
    "y = df.misogynistic"
   ]
  },
  {
   "cell_type": "code",
   "execution_count": 20,
   "metadata": {},
   "outputs": [],
   "source": [
    "X_train, X_test, y_train, y_test = train_test_split(X, y, test_size=0.2, random_state=42 )"
   ]
  },
  {
   "cell_type": "code",
   "execution_count": 21,
   "metadata": {},
   "outputs": [
    {
     "data": {
      "text/plain": [
       "((12160,), (3040,))"
      ]
     },
     "execution_count": 21,
     "metadata": {},
     "output_type": "execute_result"
    }
   ],
   "source": [
    "X_train.shape, X_test.shape"
   ]
  },
  {
   "cell_type": "code",
   "execution_count": 22,
   "metadata": {},
   "outputs": [
    {
     "data": {
      "text/plain": [
       "'Bernie is a commie jew....no wonder the sheep masses love him.\\n\\nI wonder why the system hates him so much...probably because it\\'d be too transparent and people , white people, may start to wake up to our genocide if someone who is openly jewish and anti white was elected...\\n\\nRemember, they are \"white\" just like us , goyim'"
      ]
     },
     "execution_count": 22,
     "metadata": {},
     "output_type": "execute_result"
    }
   ],
   "source": [
    "X_train[1231]"
   ]
  },
  {
   "cell_type": "code",
   "execution_count": 23,
   "metadata": {},
   "outputs": [],
   "source": [
    "clf = Pipeline([('tfidf', tfidf), ('clf', classifier)])"
   ]
  },
  {
   "cell_type": "code",
   "execution_count": 24,
   "metadata": {},
   "outputs": [
    {
     "data": {
      "text/plain": [
       "Pipeline(steps=[('tfidf',\n",
       "                 TfidfVectorizer(ngram_range=(1, 2),\n",
       "                                 tokenizer=<function text_data_cleaning at 0x7fe9db22c9d0>)),\n",
       "                ('clf', LinearSVC())])"
      ]
     },
     "execution_count": 24,
     "metadata": {},
     "output_type": "execute_result"
    }
   ],
   "source": [
    "clf.fit(X_train, y_train)"
   ]
  },
  {
   "cell_type": "code",
   "execution_count": 25,
   "metadata": {},
   "outputs": [],
   "source": [
    "y_pred = clf.predict(X_test)"
   ]
  },
  {
   "cell_type": "code",
   "execution_count": 26,
   "metadata": {},
   "outputs": [
    {
     "name": "stdout",
     "output_type": "stream",
     "text": [
      "              precision    recall  f1-score   support\n",
      "\n",
      "           0       0.95      0.97      0.96      2709\n",
      "           1       0.72      0.58      0.65       331\n",
      "\n",
      "    accuracy                           0.93      3040\n",
      "   macro avg       0.84      0.78      0.80      3040\n",
      "weighted avg       0.93      0.93      0.93      3040\n",
      "\n"
     ]
    }
   ],
   "source": [
    "print(classification_report(y_test,y_pred))"
   ]
  },
  {
   "cell_type": "code",
   "execution_count": 27,
   "metadata": {},
   "outputs": [
    {
     "data": {
      "text/plain": [
       "array([[2635,   74],\n",
       "       [ 138,  193]])"
      ]
     },
     "execution_count": 27,
     "metadata": {},
     "output_type": "execute_result"
    }
   ],
   "source": [
    "confusion_matrix(y_test, y_pred)"
   ]
  },
  {
   "cell_type": "code",
   "execution_count": 28,
   "metadata": {},
   "outputs": [],
   "source": [
    "import pickle\n",
    "filename = './data/data_nlp/classifier2.sav'\n",
    "pickle.dump(clf, open(filename, 'wb'))"
   ]
  },
  {
   "cell_type": "markdown",
   "metadata": {},
   "source": [
    "***PREDICTIONS***"
   ]
  },
  {
   "cell_type": "code",
   "execution_count": null,
   "metadata": {},
   "outputs": [],
   "source": [
    "import pickle\n",
    "clf = pickle.load(open('./data/data_nlp/classifier2.sav', 'rb'))"
   ]
  },
  {
   "cell_type": "code",
   "execution_count": 26,
   "metadata": {},
   "outputs": [],
   "source": [
    "year = 2019 # available: from 2015 to 2020\n",
    "PATH_DATA = './data/data_nlp/predict/'\n",
    "QUOTES_FILE = PATH_DATA + f'{year}_male.json.bz2'\n",
    "\n",
    "df = pd.read_json(QUOTES_FILE, lines=True, compression='bz2', typ='frame')\n"
   ]
  },
  {
   "cell_type": "code",
   "execution_count": 28,
   "metadata": {},
   "outputs": [],
   "source": [
    "df['Mysoginistic'] = df.quotation.apply(lambda quote: clf.predict([quote]))"
   ]
  },
  {
   "cell_type": "markdown",
   "metadata": {},
   "source": []
  },
  {
   "cell_type": "code",
   "execution_count": 33,
   "metadata": {},
   "outputs": [
    {
     "data": {
      "text/plain": [
       "(56, 12)"
      ]
     },
     "execution_count": 33,
     "metadata": {},
     "output_type": "execute_result"
    }
   ],
   "source": [
    "men_mysoginistic = df[df.Mysoginistic==1]\n",
    "men_mysoginistic.shape"
   ]
  },
  {
   "cell_type": "code",
   "execution_count": 35,
   "metadata": {},
   "outputs": [
    {
     "name": "stdout",
     "output_type": "stream",
     "text": [
      "Jon Ronson: \"Somebody HIV + should rape this bitch.\"\n",
      "Mel Gibson: \"You look like a f *** ing bitch in heat. And if you get raped by a pack of n **** s it will be your fault. Alright? Because you provoked it. You are provocatively dressed all the time with your fake boobs that you feel you have to show off. I don't like it. I don't want that woman. I don't want you. I don't trust you. I don't love you.\"\n",
      "Stanley Ntagali: \"We condemn in the strongest term possible, actions of rape and violence against women and girls. As a church, we are deeply concerned about the increasing trend of sexual and gender-based violence in the country especially towards women and girls including the continued harmful practices such as Female Genital Mutilation and child marriages. I am also concerned about the increasing cases of child molesting and defilement and its negative consequences.\"\n",
      "Ty Dolla $ ign: \"Got too many hoes, I just leave 'em on read / Too much sex, shawty, you can give me head,\"\n",
      "ansel elgort: \"So why can't I put the desire to have sex with women aside and let myself have love with women.\"\n",
      "Simon Williams: \"I thought that if I so much as sighed in relief, then someone would find a sex tape involving Jacob Rees-Mogg, or Dominic Cummings would get drunk and call the Queen a rancid old bitch in front of the French ambassador.\"\n",
      "Matt Roberts: \"at least one sexual penetration act,\"\n",
      "Donald Trump Jr. .: \"I'm a picky bitch, there's no reason why I shouldn't be, I'm a star and I've dated stars. I haven't had sex since my ex, so technically I feel I'm a virgin again. I went back to extra small tampons again and they barely fit.\"\n",
      "Simon James: \"entrenched sexual preoccupation with children\"\n",
      "Don Lemon: \"Women are the smartest of the sexes and they always have been,\"\n",
      "Tom Brown: \"do something sexual to the child,\"\n",
      "Andrew Walker: \"She is a liar, a bitch and a bully and she was never even a sex worker.\"\n",
      "Leonard Marchand: \"each and every sexual act\"\n",
      "Bill Burr: \"That's all they do is bitch, moan, and complain... What happened to you today, sweetheart, did they not chill your rosé? Was the trolley not running down at the mall?... One of my fantasies is I wan na drive by a women's rally and just say the most sexist s *** I can think of just to watch them lose their minds.\"\n",
      "Omar Suleiman: \"an act of sexual deviance,\"\n",
      "Bruce Dern: \"I can, in the same year, be the same age and playing a very sexualized character, a very maternal character, a very heroic character, a bitch, and there's nothing saying, `Oh, now that you're this age, we're gon na define you, '\"\n",
      "Dave Chappelle: \"I don't know if it was his goons, but they sure did like him. [ R. Kelly said to me ], `How you gon na do that video with me peeing on a bitch like that?' And I said, `How you gon na make a video like that?' My mind's telling me no.. But you know what? My body's telling me yes.\"\n",
      "Kendrick Lamar: \"This is an ode to the vagina and its all-powerful presence. Kendrick's verse is fire as always and he digs into some really cool stuff about masculinity/femininity and how men calling each other a `pussy' to mean that they're scared, but it actually shows how powerful the vagina is. So yeah, in the words of Kendrick, `Pussy is so undefeated. Let's amen to that. '\"\n",
      "David Thomas: \"She kept on about this sex business. I think I called her a whore,\"\n",
      "Andy Cohen: \"There's this one time where this guy I'm having sex with has to shout `bitch' , `whore' in my face -- I really, really hated it. I hated it. I hated it so much,\"\n",
      "Noah Berlatsky: \"Feminists have long argued that traditional gender roles harm women... It's also possible, though, that received expectations of men hurt men,\"\n",
      "Piers Morgan: \"old, slut-shaming, fat-shaming and a misogynist,\"\n",
      "Alan Roger Currie: \"Many in the audience laughed when I said it, but I had at least two women who were present at the event openly acknowledge that they felt this was an idea that needed to be explored. I realize that many women like to keep the activities of their sex lives discreet and private, but the reality is, a good number of men have been falsely accused of date-rape and sexual misconduct by women who suffered nothing more than `sex regret' and `next-day guilt.' Just like no woman wants a reputation as a `promiscuous slut,' no man wants to be falsely accused of being a rapist,\"\n",
      "50 Cent: \"There's no difference between Harvey Weinstein and Randel Emmett! This is reality, not reality TV. Bravo Bitch @bravo.\"\n",
      "Bill Sienkiewicz: \"Maybe read Maus. Sandman. Preacher. Sex Criminals. Bitch Planet. Love and Rockets. The Divided States of America. For a start.\"\n",
      "Rajeev Khandelwal: \"During the interrogation, the police got to know about the sexual exploitation of the woman by Pushpendra. The kidnappers told the police that they took the step because they wanted to teach Pushpendra a lesson for sexually exploiting the woman.\"\n",
      "Kanye West: \"For all my South Side n **** s that know me best / I feel like me and Taylor might still have sex / Why? I made that bitch famous.\"\n",
      "Hunter Biden: \"was kicked out of the Navy for failing a cocaine drug test; then he divorced his wife, the mother of their three daughters, after a yearlong affair to marry his brother's widow. Over the course of the divorce, Biden's son drained hundreds of thousands of dollars from the couple's assets by spending extravagantly on his own interests, including drugs, alcohol, prostitutes, strip clubs, and gifts for women with whom he had sexual relations while leaving the family with no money to pay legitimate bills.\"\n",
      "50 Cent: \"Hey how is the Range Rover? There's no difference between Harvey Weinstein and Randel Emmett! This is reality, not reality TV. Bravo Bitch.\"\n",
      "Kanye West: \"For all my southside n ***** that know me best / I feel like me and Taylor might still have sex / Why? I made that bitch famous / I made that bitch famous,\"\n",
      "Rodrigo Duterte: \"To the priests who raped children and fondled balls, you sons of bitches, I will really kill you. Why should I be afraid? If you all get killed tonight, that would be better. Then we will have a better world,\"\n",
      "Lil Duval: \"I told R Kelly dumb ass he should've just left the country\"\n",
      "asap rocky: \"Yeah, smelt the sex up in the air / Biting on the sheet, fingers running through her hair / Meeting some bad bitches, very fucking rare,\"\n",
      "Joyner Lucas: \"Anybody who actually thinks breezy needs to take some pussy got issues. Trust me when I say it doesn't matter what city, state, country, or continent this n *** a goes to, he can literally pick like a flower from a garden of bad bitches who wan na fuck and it's that simple. Nobody bout to make me believe this n *** a is a rapist.\"\n",
      "Ed Sanders: \"He was bringing other girls to have threesomes with Sharon, and Sharon didn't like that he was picking up girls on the Sunset and bring them home to have sex with them.\"\n",
      "Boosie Badazz: \"FIRST THIS MAJOR MOVE Now he raped somebody. MY NIGGA BE ON DA JET WITH 7-10 BADDIES FRFR RAAAAAAAAAPPPPEEEE. GTFO. They coming for us all WHOS NEXT [? ] BITCH U LYING I HOPE U GET RAPED FR NOW BY A GANG GANG U MONEY HUNGRY ASS HOE,\"\n",
      "Don Lemon: \"the smartest of the sexes,\"\n",
      "Nikki Bell: \"Why does that matter? Money doesn't equal consent. It is unwanted sex. You're putting your wants above a very damaged human being. I hope at least that I have ruined your `Pretty Woman' fantasy, and for those who don't care, just know that every woman who gets in your car is disgusted by you.\"\n",
      "Dave Chappelle: \"It's not your fault you were raped. But it's not my fault either. Ta-ta, bitch,\"\n",
      "Mike Wilson: \"We knew there might be some fear reluctance over the subject matter, but assumed those would be related to ideas of either promoting drugs or the typical `bitches and bongs' misogyny and cliches,\"\n",
      "Victor Manuel Fernandez: \"women and bisexuality, pansexuality and polysexuality.\"\n",
      "Michael Jackson: \"It got more dirty sexual,\"\n",
      "Dan Harmon: \"where they run around doing rape jokes, shooting women in the pussy, being vaguely racist or eating shit.\"\n",
      "Tucker Carlson: \"Psh, it' s been like a decade since I talked about sexy teenage sluts!\"\n",
      "David Ashworth: \"considered he was irresistible to these women, whom he portrayed as both crazy about him and sexually voracious\"\n",
      "Kayode Fayemi: \"We must at all costs stop the menaces of female genital mutilation, open defecation, domestic violence against women, child trafficking and rape, defilement and other ills against girls and women,\"\n",
      "Boosie Badazz: \"FIRST THIS MAJOR MOVE Now he raped somebody. MY NIGGA BE ON DA JET WITH 7-10 BADDIES FRFR RAAAAAAAAAPPPPEEEE. GTFO. They coming for us all WHOS NEXT [? ] BITCH U LYING I HOPE U GET RAPED FR NOW BY A GANG GANG U MONEY HUNGRY A ** HOE. SOMEBODY GOT TA START BEATING THESE HOES A **. WHERE THE HOOD B ** CHES AT\"\n",
      "Mike Wilson: \"it's very racially charged. It's, a lot of times, sexually charged. There's a lot of what I call `bitches and bongs' content out there, which we didn't want to be any part of.\"\n",
      "Tony Porter: \"[ We were taught ] that men are in charge, which means women are not; that men lead, and you [ women ] should just follow and just do what we say. That men are superior and women are inferior; that men are strong, that women are weak. That women are of less value, property of men, and objects, particularly sexual objects.\"\n",
      "James Grant: \"There were no sexual acts,\"\n",
      "Lars Larson: \"It's not sexist. I know dumb men and I know dumb women, and I probably will meet some dumb people with pronoun names too. It's not a sexist term,\"\n",
      "Paul Kerr: \"a woman who cries rape\"\n",
      "Woody Allen: \"I should be [ poster boy #MeToo movement ]. I've worked with hundreds of actresses, not one of them has ever complained about me. I've employed women in the top capacity for years and we've always paid them the equal of men,\"\n",
      "50 Cent: \"There is no difference between Harvey Weinstein and Randel Emmett! This is the reality, not Reality TV Bravo Bitch.\"\n",
      "Lars Larson: \"When people do dumb things, they should be called out, and it's not sexist. I know dumb men, and I know dumb women, and I probably will meet some dumb people with pronoun names, too. It's not a sexist term,\"\n",
      "Charlie Mills: \"This is our sexy bitch who we are going to f ****** rape tonight.\"\n"
     ]
    }
   ],
   "source": [
    "for i, quote in enumerate(men_mysoginistic.quotation):\n",
    "    print(f'{men_mysoginistic.iloc[i].speaker}: \"{quote}\"')"
   ]
  },
  {
   "cell_type": "code",
   "execution_count": 37,
   "metadata": {},
   "outputs": [],
   "source": [
    "year = 2018 # available: from 2015 to 2020\n",
    "PATH_DATA = './data/data_nlp/predict/'\n",
    "QUOTES_FILE = PATH_DATA + f'{year}_male.json.bz2'\n",
    "\n",
    "df = pd.read_json(QUOTES_FILE, lines=True, compression='bz2', typ='frame')\n"
   ]
  },
  {
   "cell_type": "code",
   "execution_count": 38,
   "metadata": {},
   "outputs": [],
   "source": [
    "df['Mysoginistic'] = df.quotation.apply(lambda quote: clf.predict([quote]))"
   ]
  },
  {
   "cell_type": "code",
   "execution_count": 39,
   "metadata": {},
   "outputs": [
    {
     "data": {
      "text/plain": [
       "(86, 12)"
      ]
     },
     "execution_count": 39,
     "metadata": {},
     "output_type": "execute_result"
    }
   ],
   "source": [
    "men_mysoginistic = df[df.Mysoginistic==1]\n",
    "men_mysoginistic.shape"
   ]
  },
  {
   "cell_type": "code",
   "execution_count": 41,
   "metadata": {},
   "outputs": [
    {
     "name": "stdout",
     "output_type": "stream",
     "text": [
      "Alex Hall: \"Feminism causes women to hate men, kill their children, become witches, whores & lesbians.\"\n",
      "Kanye West: \"feels like [ me ] and Taylor might still have sex/I made that bitch famous,\"\n",
      "Snoop Dogg: \"I don't give a fuck about how sexy you think the bitch look. That's a fucking doll, nigga.\"\n",
      "Sheikh Mohammed: \"The ministry is offering its courses to both sexes, not only to girls. The success of a marital relationship is the responsibility of both women and men. Limiting premarital courses to girls gives the impression that they are responsible for the high divorce rates.\"\n",
      "Frank Partnoy: \"women were called lapdogs, bitches, and whores. Male brokers groped women, demanded sex, and gave women genital-shaped food. At Merrill Lynch, women were humiliated by strippers at office parties.... At Lew Lieberbaum, there were strippers, cat calls, and demands for oral sex.\"\n",
      "Joe Budden: \"I should have sex in the coffin `cause I'm killin' these hoes.\"\n",
      "Alex Jones: \"sexual acts that can kill you.\"\n",
      "Walter Brandmüller: \"always the same: female priesthood, celibacy, intercommunion, remarriage after divorce. Just recently there has been added the Church's `yes' to homosexuality.\"\n",
      "Tyler Thompson: \"overstepping the bounds of decency in Canada by telling all children that they are gender fluid and can be a different sex in their head than they are in their body.\"\n",
      "Michael David: \"That's impersonating a police officer; that's a crime. And he said' I can do whatever I want.' That's police abuse. And he's denigrating women with that `bitch' remark; not just a rape victim, all women. So even if he's a licensed process server, that's wrong. You don't denigrate women and use language like that.\"\n",
      "Chance the Rapper: \"pussy so good I said my own name during sex\"\n",
      "Josh Homme: \"You dance like a sexy bitch.\"\n",
      "Jon Stewart: \"It's not just that you don't want people taking a knee, it's that they're `sons of bitches' if they do. It's not just denying women who accuse you of sexual assault, it's saying `they were too ugly anyway.' You can't just be against the media, they're `enemies of the people, '\"\n",
      "Mike Perry: \"Who's afraid to get laid on top of? That's like a sexual fantasy to some people. They hire like 400 pound women to drop that ass on them. Ben Askren's like a 400 pound woman. Fu ** in' bitch. Biggest bitch I ever saw.\"\n",
      "Nick Cave: \"Hashtag me too, bitch. That's sexual harassment in the workplace.\"\n",
      "Rodrigo Duterte: \"Son of a bitch, what a waste. I was thinking that they raped her and lined up. I was angry because she was raped, that's one thing. But she was so beautiful, the mayor should have been first, what a waste,\"\n",
      "David Leyonhjelm: \"I would call a woman a bitch, and if a man said [ that ], I would call him a bastard. I do not think of that as sexism,\"\n",
      "Bianca Del Rio: \"You notice she wasn't raped until she was in the bottom two? Think about that, bitch -- that's fucking strategy... And if you weren't raped, remember this -- you're ugly.\"\n",
      "Enzo Amore: \"I ain't that Bill Cosby, bitch.\"\n",
      "Shawn Grate: \"You can't rape a crack whore,\"\n",
      "Chuck Grassley: \"It's important for us to maintain a sense of decorum. Now, that doesn't mean we have to stop sending graphic emails -- it just means we should tone down the rhetoric about mutilating her corpse. You should always take the high road and leave her children out of this. Remember, there's really no need to use misogynistic slurs such as `bitch' when `lying whore' will suffice.\"\n",
      "David Ley: \"The fact is, women are told that being sexually bold in such a manner is shameful and makes them a slut.\"\n",
      "Blair St. Clair: \"Seriously, I don't even want to talk about season 10 because every fucking bitch cried every f * cking episode. Did you see that? Every episode! It's her fat ass going `Ugh I'm fat' and then the other one... and then you've got that other bitch: `I was raped!' No -- f * ck you. You notice she wasn't raped until she was in the bottom two? Think about that, bitch -- that's f * cking strategy. Oh f * ck you rape is funny if you haven't had it. And if you weren't raped, remember this -- you're ugly.\"\n",
      "Martin Doherty: \"In the moment, I was like, you're trying to goad me into saying something; it's either gon na be `she's a hypocrite, see, she doesn't stand for what she says she stands for' . Or, it'll make me look like an angry, crazy, feminist bitch. So I hung up. `I'm sorry, I feel like we cut off there.\"\n",
      "Harvey Weinstein: \"Criminal Sexual Act in the First Degree for a forcible sexual act against a third woman in 2006,\"\n",
      "Terdema Ussery: \"serial sexual harasser of women.\"\n",
      "Jesse Lee Peterson: \"I don't think going out on a date makes you a slut, but having sex with different men makes you a slut,\"\n",
      "Pete Davidson: \"At the end of the day, it's just a tape of two adults having consensual sex. So why are we slut-shaming Hulk Hogan? Why do we slut-shame anyone?'Cause that's a real problem,\"\n",
      "Kanye West: \"I feel like me and Taylor might still have sex / Why? I made this bitch famous!\"\n",
      "Josh Stein: \"If somebody has experienced sexual harassment and actually has the courage to complain and to get vindication, if they do it through mandatory arbitration and they win, they can't tell anyone,\"\n",
      "Roger Goodell: \"urged Goodell to stop NFL teams from exploiting NFL cheerleaders by paying them only minimum wage and to stop the sexual harassment and abuse of these women in the NFL workplace.\"\n",
      "Vivek Agnihotri: \"Vivek. Just want to point out that you are using the trauma of women who are rape survivors to slut shame and abuse in public a woman you don't like. In the rare moments of sanity that may visit your brain -- otherwise unhinged with hate -- think about how low that is. #scum.\"\n",
      "John Ibbitson: \"Doug Ford, if he wins the Ontario Conservative leadership and the provincial election, plans to increase parental control over sexual education. This would be tragic. But it might be smart politics. Tragic, because such policies inevitably lead to an increase in pregnancies among teenage women. But smart, because it plays to several key elements of the conservative coalition.\"\n",
      "Johnston , P.: \"children as sexual beings,\"\n",
      "Bianca del Rio: \"No, fuck you. You notice she wasn't raped until she was in the bottom two? Think about that, bitch, that's fucking strategy.\"\n",
      "Ian McKellen: \"painted whores, sexual Gladiators, fiercely old party children\"\n",
      "Zakir Naik: \"western women are more susceptible to rape\"\n",
      "Trippie Redd: \"Factual time. You was 18 and you touched on a 13-year-old's tittie and you and your niggas gang banged, raw doggy style, fuck that lil bitch. You raped her. You're a rapist. You're convicted and have papers on it. Me and Danielle was in the studio. She pulled up to the studio. She always been a big fan of me. Saying that we fucked is weird, I don't know where you got that from,\"\n",
      "Robert Oscar Lopez: \"Once you go straight, you may go years without sex; nobody wants to hear you cry about it. Once you find your woman, you can't just blow off things she complains about. You have to sit and listen to her whine about stupid stuff for hours without laughing or rolling your eyes or getting snarky.\"\n",
      "Harvey Weinstein: \"I was slut-shamed and sexually harassed,\"\n",
      "Mohsin Ali: \"Feminism shoved women out of the door and put them in competition with men for kind of roles in society which are better suited for men. Men and women may be equal, they are certainly not the same.\"\n",
      "Bianca Del Rio: \"You notice she wasn't raped until she was in the bottom two? Think about that, bitch. That's strategy. that's f ****** strategy!\"\n",
      "James Martin: \"our sexual appetites defin [ e ] who we are.\"\n",
      "Chris White: \"You don't ever hear tops being called sluts, just bottoms. So there's some shaming there. And it's feminine type shaming, as well. Not only you saying that it's more masculine to be a top, but you're saying that you should be ashamed to be a bottom.\"\n",
      "Michael Aamodt: \"Somebody who is killing for financial gain might be very different from someone who is killing for sexual enjoyment,\"\n",
      "Warren Farrell: \"Boys and men, like girls and women, also grew up confused about what was expected of them sexually in a culture that did not make speaking about sex easy for either sex.\"\n",
      "Tamler Sommers: \"I've been against the death penalty all my life. I don't think it's the state's business to end the lives of its citizens [ but ] if Kitty had been raped and murdered, I wouldn't want the man executed by lethal injection fifteen years later, after dozens of appeals and legal challenges. I'd want to track down the son of a bitch before the law could get ahold of him and kill him myself with my bare hands.\"\n",
      "Marilyn Manson: \"Babble babble, bitch bitch, rebel rebel, party party, sex sex sex and don't forget the violence\"\n",
      "Andy Cohen: \"I've never considered myself a feminist. I just consider myself giving power to the pussy, to be honest.\"\n",
      "Jeffrey Goldberg: \"`We're America, Bitch' is not only a characterologically accurate collective self-appraisal - the gangster fronting, the casual misogyny, the insupportable confidence-but it is also perfectly Rorschachian. To Trump's followers, `We're America, Bitch' could be understood as a middle finger directed at a cold and unfair world, one that no longer respects American power and privilege. To much of the world, however, and certainly to most practitioners of foreign and national-security policy, `We're America, Bitch' would be understood as self-isolating, and self-sabotaging.\"\n",
      "President Donald Trump: \"Female power and female sexuality are yet to be discovered. Discussed. Performed. Lived up. And the owner of vaginas is not some narcissistic stupid orange ape who'd claim that he could easily grab women by their pussies. The owner of vagina is a woman. Who wears her vag as a badge of honour,\"\n",
      "Sid Vicious: \"Keep that energy, gon' up that Hennessy (ass) / I need my bag quickly/Separate six-degrees, bitches said they know me / Sex pistols, Sid Vicious, what you want is horny/Hit me on my cash app, check it in the morning,\"\n",
      "Bob Corker: \"zero cases of sexual slavery\"\n",
      "Cormac Burke: \"The so-called right to abortion has pitted mothers against their children and women against men. It has sown violence and discord at the heart of the most intimate human relationships. It has aggravated the derogation of the father's role in an increasingly fatherless society. It has portrayed the greatest of gifts -- a child -- as a competitor, an intrusion and an inconvenience. It has nominally accorded mothers unfettered dominion over the dependent lives of their physically dependent sons and daughters. And, in granting this unconscionable power, it has exposed many women to unjust and selfish demands from their husbands or other sexual partners.\"\n",
      "Jesse Lee Peterson: \"Yes, a slut is what you make it Jesse, being a boss, taking the mic, turning life around. It doesn't matter what a woman's sexual history is just a word... A slut is a word for anybody who is owning their sexuality, turning up and not letting Jesse twist their answers around.\"\n",
      "Kevin McCarty: \"Why should taxpayers be on the hook for sexual harassment payouts, while sexual predators walk away with no financial accountability?\"\n",
      "Jay Asher: \"Slut-shaming, harassment, and sexual assault are central to Asher's story,\"\n",
      "index finger: \"You're not even being sexual about it. That's the least you could do if you're not going to tell me why.\"\n",
      "Alexander Wang: \"the #MeToo movement. You now have possibilities to assert yourself. That doesn't mean you have to be a bitch.\"\n",
      "Arjun Sarja: \"The after-effect of #MeToo is like, once you speak out, they'll ensure you are victimised and slut-shamed.\"\n",
      "Scott Eastwood: \"I think there's a shaming thing with women, too, which really sucks. Where they use these terrible words, like `whore' and `slut.' And instead of embracing sexual culture, women put each other down. And it's like, `Why the f ** k would you call them that?' Just because they f ** ked somebody? Like, what? F ** k you! Don't do that -- you're bringing down the culture.\"\n",
      "Jair Bolsonaro: \"I'm a rapist now. I would never rape you, because you do not deserve it... slut!\"\n",
      "Richard Brown: \"The defendant in this case is accused of profiting from prostitution by forcing two teenage girls into having sex dates with men for cash,\"\n",
      "Johnston , P.: \"Sexual Appetite for Children.\"\n",
      "Luc Besson: \"In the French filmmaker Luc Besson's thrillers and science-fiction movies, the women are serious, smart and strong, occasionally stronger than men. Sometimes, they even save the world. But recent allegations of sexual abuse against Mr. Besson put his regard for his actresses in a different light. One of the women, Sand Van Roy, has told the Paris police that Mr. Besson raped her more than once.\"\n",
      "Osman Khalid Butt: \"Even before this [ feminism ] became the woke thing to do,\"\n",
      "Guy Branum: \"The political importance of [ Rippon ] is that he never gives anyone the safety of just enjoying his beauty or artistry without being reminded he has sex with men in the butt. Bitch has rejected the situational closet, and he is a hero.\"\n",
      "Vivek Agnihotri: \"Vivek. Just want to point out that you are using the trauma of women who are rape survivors to slut shame and abuse in public a woman you don't like. In the rare moments of sanity that may visit your brain-otherwise unhinged with hate-think about how low that is.\"\n",
      "Richard Brown: \"The defendant in this case is accused of profiting from prostitution by forcing a young teenage girl into having sex dates with men for cash. Once again, I want to emphasize that prostitution is not a victimless crime and that sex trafficking is an incessant act of brutality and degradation that scars its victims for life,\"\n",
      "Phil Mushnick: \"unspeakably and unprintably vulgar rappers... who have helped resuscitate the N-word while boasting of their sexual degradation of women as hit-the-road whores, bitches and worse\"\n",
      "Clel Baudler: \"The last thing that little girl saw was that after she was kidnapped was that ugly son-of-a-bitch raping her before he killed her. He doesn't have a right to breathe anymore.\"\n",
      "Greg Tate: \"Anita Hill is either the Rosa Parks of sexual discrimination or she's a lyin' - ass bitch with the mind of a lunatic.\"\n",
      "Jeff Boyd: \"A woman need not be a lesbian or bisexual to harbor some sexual desire toward another woman, just as a man need not be attracted to a specific woman, or women in general, to sexually harass her.\"\n",
      "Kanye West: \"I feel like me and Taylor might still have sex / Why? I made that bitch faaaamous\"\n",
      "Yashar Ali: \"This is how bad things have gotten. A major corporate lawyer like @FAquila calling a woman a bitch to somehow defend a woman who talked about her sexual violence trauma today. Everything is terrible,\"\n",
      "Robert Blum: \"They start to see girls as sexual beings because that's how everyone around them sees them,\"\n",
      "Asaduddin Owaisi: \"homosexuality, adultery (women) have been decriminalised but divorce is being criminalised\"\n",
      "Kevin Brophy: \"The Gangsta Bitch cover explicitly misrepresents plaintiff having sex with Cardi B,\"\n",
      "Jon Stewart: \"It's not just that you don't want people taking a knee; it's that they're `sons of bitches' if they do. It's not just denying women who accuse you of sexual assault; it's saying they're too ugly anyway.\"\n",
      "William Foley: \"And when he made sexual overtures to me I didn't stop them.\"\n",
      "Pete Davidson: \"At the end of the day, it's just a tape of two adults having consensual sex. So why are we slut-shaming Hulk Hogan? Why do we slut-shame anyone? `Cause that's a real problem,\"\n",
      "Jay Z: \"sexist with a long pattern of objectifying `hoes '\"\n",
      "John Dumelo: \"I told the girl that I wouldn't do that. `If you want money, I'll give you your money for your rent or whatever it is but I'm not going to give you in return for your sexual favours or anything' ,\"\n",
      "Jim Gavin: \"And then all of a sudden a stream, every three or four months, another type of sexual case was being brought to our attention with Bernback as a suspect,\"\n",
      "Giuliano Mignini: \"Meredith called Amanda a slut for having too much sex so she killed her,\"\n",
      "Jon Stewart: \"No matter what you do, it always comes back with an extra layer of gleeful cruelty and dick-ishness. It's not just that you don't want people taking a knee. It's that they're sons of bitches if they do. It's not just denying women who accuse you of sexual assault. It's saying they're too ugly anyway. You can't just be against the media. They're enemies of the people.\"\n"
     ]
    }
   ],
   "source": [
    "for i, quote in enumerate(men_mysoginistic.quotation):\n",
    "    print(f'{men_mysoginistic.iloc[i].speaker}: \"{quote}\"')"
   ]
  }
 ],
 "metadata": {
  "interpreter": {
   "hash": "2ddbd0b842a978e03471eb3a4ae18fdd24eb8ad76bdab23b363108c4c8f6a59c"
  },
  "kernelspec": {
   "display_name": "Python 3.8.11 64-bit ('ada': conda)",
   "name": "python3"
  },
  "language_info": {
   "codemirror_mode": {
    "name": "ipython",
    "version": 3
   },
   "file_extension": ".py",
   "mimetype": "text/x-python",
   "name": "python",
   "nbconvert_exporter": "python",
   "pygments_lexer": "ipython3",
   "version": "3.8.11"
  },
  "orig_nbformat": 4
 },
 "nbformat": 4,
 "nbformat_minor": 2
}
